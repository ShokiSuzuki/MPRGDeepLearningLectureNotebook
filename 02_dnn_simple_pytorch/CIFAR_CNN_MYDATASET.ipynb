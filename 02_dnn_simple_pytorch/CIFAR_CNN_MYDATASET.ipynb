{
  "nbformat": 4,
  "nbformat_minor": 0,
  "metadata": {
    "colab": {
      "name": "CIFAR_CNN_MYDATASET.ipynb",
      "provenance": [],
      "authorship_tag": "ABX9TyPcePsmICHi4QKfRz5hjf2n",
      "include_colab_link": true
    },
    "kernelspec": {
      "name": "python3",
      "display_name": "Python 3"
    },
    "language_info": {
      "name": "python"
    },
    "accelerator": "GPU",
    "widgets": {
      "application/vnd.jupyter.widget-state+json": {
        "7c49a6143c274e4281c6bc4317a14acd": {
          "model_module": "@jupyter-widgets/controls",
          "model_name": "HBoxModel",
          "model_module_version": "1.5.0",
          "state": {
            "_dom_classes": [],
            "_model_module": "@jupyter-widgets/controls",
            "_model_module_version": "1.5.0",
            "_model_name": "HBoxModel",
            "_view_count": null,
            "_view_module": "@jupyter-widgets/controls",
            "_view_module_version": "1.5.0",
            "_view_name": "HBoxView",
            "box_style": "",
            "children": [
              "IPY_MODEL_bd67a6265ffb455d8c3bcdd0aa6e6143",
              "IPY_MODEL_3c708f713db546d38d3b7b2dc1b8c98e",
              "IPY_MODEL_30c07243be9a4e8fa18640ff349bd2b8"
            ],
            "layout": "IPY_MODEL_0f3ec763d8fb417a80b2644a1bafce5d"
          }
        },
        "bd67a6265ffb455d8c3bcdd0aa6e6143": {
          "model_module": "@jupyter-widgets/controls",
          "model_name": "HTMLModel",
          "model_module_version": "1.5.0",
          "state": {
            "_dom_classes": [],
            "_model_module": "@jupyter-widgets/controls",
            "_model_module_version": "1.5.0",
            "_model_name": "HTMLModel",
            "_view_count": null,
            "_view_module": "@jupyter-widgets/controls",
            "_view_module_version": "1.5.0",
            "_view_name": "HTMLView",
            "description": "",
            "description_tooltip": null,
            "layout": "IPY_MODEL_6e0857d7bd5e42ab8e7317534f85744e",
            "placeholder": "​",
            "style": "IPY_MODEL_854908d00249425ba2cabeecdb81d4a8",
            "value": ""
          }
        },
        "3c708f713db546d38d3b7b2dc1b8c98e": {
          "model_module": "@jupyter-widgets/controls",
          "model_name": "FloatProgressModel",
          "model_module_version": "1.5.0",
          "state": {
            "_dom_classes": [],
            "_model_module": "@jupyter-widgets/controls",
            "_model_module_version": "1.5.0",
            "_model_name": "FloatProgressModel",
            "_view_count": null,
            "_view_module": "@jupyter-widgets/controls",
            "_view_module_version": "1.5.0",
            "_view_name": "ProgressView",
            "bar_style": "success",
            "description": "",
            "description_tooltip": null,
            "layout": "IPY_MODEL_e7f06db8a4144a49bde2e6754411d351",
            "max": 170498071,
            "min": 0,
            "orientation": "horizontal",
            "style": "IPY_MODEL_f0e7a1551efc478dbc803d4a19694a5e",
            "value": 170498071
          }
        },
        "30c07243be9a4e8fa18640ff349bd2b8": {
          "model_module": "@jupyter-widgets/controls",
          "model_name": "HTMLModel",
          "model_module_version": "1.5.0",
          "state": {
            "_dom_classes": [],
            "_model_module": "@jupyter-widgets/controls",
            "_model_module_version": "1.5.0",
            "_model_name": "HTMLModel",
            "_view_count": null,
            "_view_module": "@jupyter-widgets/controls",
            "_view_module_version": "1.5.0",
            "_view_name": "HTMLView",
            "description": "",
            "description_tooltip": null,
            "layout": "IPY_MODEL_397de1dd1a764216a5462e15360a8911",
            "placeholder": "​",
            "style": "IPY_MODEL_2a393fa708a7470c85d4f3c5972390f6",
            "value": " 170499072/? [00:02&lt;00:00, 57074150.77it/s]"
          }
        },
        "0f3ec763d8fb417a80b2644a1bafce5d": {
          "model_module": "@jupyter-widgets/base",
          "model_name": "LayoutModel",
          "model_module_version": "1.2.0",
          "state": {
            "_model_module": "@jupyter-widgets/base",
            "_model_module_version": "1.2.0",
            "_model_name": "LayoutModel",
            "_view_count": null,
            "_view_module": "@jupyter-widgets/base",
            "_view_module_version": "1.2.0",
            "_view_name": "LayoutView",
            "align_content": null,
            "align_items": null,
            "align_self": null,
            "border": null,
            "bottom": null,
            "display": null,
            "flex": null,
            "flex_flow": null,
            "grid_area": null,
            "grid_auto_columns": null,
            "grid_auto_flow": null,
            "grid_auto_rows": null,
            "grid_column": null,
            "grid_gap": null,
            "grid_row": null,
            "grid_template_areas": null,
            "grid_template_columns": null,
            "grid_template_rows": null,
            "height": null,
            "justify_content": null,
            "justify_items": null,
            "left": null,
            "margin": null,
            "max_height": null,
            "max_width": null,
            "min_height": null,
            "min_width": null,
            "object_fit": null,
            "object_position": null,
            "order": null,
            "overflow": null,
            "overflow_x": null,
            "overflow_y": null,
            "padding": null,
            "right": null,
            "top": null,
            "visibility": null,
            "width": null
          }
        },
        "6e0857d7bd5e42ab8e7317534f85744e": {
          "model_module": "@jupyter-widgets/base",
          "model_name": "LayoutModel",
          "model_module_version": "1.2.0",
          "state": {
            "_model_module": "@jupyter-widgets/base",
            "_model_module_version": "1.2.0",
            "_model_name": "LayoutModel",
            "_view_count": null,
            "_view_module": "@jupyter-widgets/base",
            "_view_module_version": "1.2.0",
            "_view_name": "LayoutView",
            "align_content": null,
            "align_items": null,
            "align_self": null,
            "border": null,
            "bottom": null,
            "display": null,
            "flex": null,
            "flex_flow": null,
            "grid_area": null,
            "grid_auto_columns": null,
            "grid_auto_flow": null,
            "grid_auto_rows": null,
            "grid_column": null,
            "grid_gap": null,
            "grid_row": null,
            "grid_template_areas": null,
            "grid_template_columns": null,
            "grid_template_rows": null,
            "height": null,
            "justify_content": null,
            "justify_items": null,
            "left": null,
            "margin": null,
            "max_height": null,
            "max_width": null,
            "min_height": null,
            "min_width": null,
            "object_fit": null,
            "object_position": null,
            "order": null,
            "overflow": null,
            "overflow_x": null,
            "overflow_y": null,
            "padding": null,
            "right": null,
            "top": null,
            "visibility": null,
            "width": null
          }
        },
        "854908d00249425ba2cabeecdb81d4a8": {
          "model_module": "@jupyter-widgets/controls",
          "model_name": "DescriptionStyleModel",
          "model_module_version": "1.5.0",
          "state": {
            "_model_module": "@jupyter-widgets/controls",
            "_model_module_version": "1.5.0",
            "_model_name": "DescriptionStyleModel",
            "_view_count": null,
            "_view_module": "@jupyter-widgets/base",
            "_view_module_version": "1.2.0",
            "_view_name": "StyleView",
            "description_width": ""
          }
        },
        "e7f06db8a4144a49bde2e6754411d351": {
          "model_module": "@jupyter-widgets/base",
          "model_name": "LayoutModel",
          "model_module_version": "1.2.0",
          "state": {
            "_model_module": "@jupyter-widgets/base",
            "_model_module_version": "1.2.0",
            "_model_name": "LayoutModel",
            "_view_count": null,
            "_view_module": "@jupyter-widgets/base",
            "_view_module_version": "1.2.0",
            "_view_name": "LayoutView",
            "align_content": null,
            "align_items": null,
            "align_self": null,
            "border": null,
            "bottom": null,
            "display": null,
            "flex": null,
            "flex_flow": null,
            "grid_area": null,
            "grid_auto_columns": null,
            "grid_auto_flow": null,
            "grid_auto_rows": null,
            "grid_column": null,
            "grid_gap": null,
            "grid_row": null,
            "grid_template_areas": null,
            "grid_template_columns": null,
            "grid_template_rows": null,
            "height": null,
            "justify_content": null,
            "justify_items": null,
            "left": null,
            "margin": null,
            "max_height": null,
            "max_width": null,
            "min_height": null,
            "min_width": null,
            "object_fit": null,
            "object_position": null,
            "order": null,
            "overflow": null,
            "overflow_x": null,
            "overflow_y": null,
            "padding": null,
            "right": null,
            "top": null,
            "visibility": null,
            "width": null
          }
        },
        "f0e7a1551efc478dbc803d4a19694a5e": {
          "model_module": "@jupyter-widgets/controls",
          "model_name": "ProgressStyleModel",
          "model_module_version": "1.5.0",
          "state": {
            "_model_module": "@jupyter-widgets/controls",
            "_model_module_version": "1.5.0",
            "_model_name": "ProgressStyleModel",
            "_view_count": null,
            "_view_module": "@jupyter-widgets/base",
            "_view_module_version": "1.2.0",
            "_view_name": "StyleView",
            "bar_color": null,
            "description_width": ""
          }
        },
        "397de1dd1a764216a5462e15360a8911": {
          "model_module": "@jupyter-widgets/base",
          "model_name": "LayoutModel",
          "model_module_version": "1.2.0",
          "state": {
            "_model_module": "@jupyter-widgets/base",
            "_model_module_version": "1.2.0",
            "_model_name": "LayoutModel",
            "_view_count": null,
            "_view_module": "@jupyter-widgets/base",
            "_view_module_version": "1.2.0",
            "_view_name": "LayoutView",
            "align_content": null,
            "align_items": null,
            "align_self": null,
            "border": null,
            "bottom": null,
            "display": null,
            "flex": null,
            "flex_flow": null,
            "grid_area": null,
            "grid_auto_columns": null,
            "grid_auto_flow": null,
            "grid_auto_rows": null,
            "grid_column": null,
            "grid_gap": null,
            "grid_row": null,
            "grid_template_areas": null,
            "grid_template_columns": null,
            "grid_template_rows": null,
            "height": null,
            "justify_content": null,
            "justify_items": null,
            "left": null,
            "margin": null,
            "max_height": null,
            "max_width": null,
            "min_height": null,
            "min_width": null,
            "object_fit": null,
            "object_position": null,
            "order": null,
            "overflow": null,
            "overflow_x": null,
            "overflow_y": null,
            "padding": null,
            "right": null,
            "top": null,
            "visibility": null,
            "width": null
          }
        },
        "2a393fa708a7470c85d4f3c5972390f6": {
          "model_module": "@jupyter-widgets/controls",
          "model_name": "DescriptionStyleModel",
          "model_module_version": "1.5.0",
          "state": {
            "_model_module": "@jupyter-widgets/controls",
            "_model_module_version": "1.5.0",
            "_model_name": "DescriptionStyleModel",
            "_view_count": null,
            "_view_module": "@jupyter-widgets/base",
            "_view_module_version": "1.2.0",
            "_view_name": "StyleView",
            "description_width": ""
          }
        }
      }
    }
  },
  "cells": [
    {
      "cell_type": "markdown",
      "metadata": {
        "id": "view-in-github",
        "colab_type": "text"
      },
      "source": [
        "<a href=\"https://colab.research.google.com/github/machine-perception-robotics-group/MPRGDeepLearningLectureNotebook/blob/master/02_dnn_simple_pytorch/CIFAR_CNN_MYDATASET.ipynb\" target=\"_parent\"><img src=\"https://colab.research.google.com/assets/colab-badge.svg\" alt=\"Open In Colab\"/></a>"
      ]
    },
    {
      "cell_type": "markdown",
      "source": [
        "## モジュールのインポート\n",
        "はじめに必要なモジュールをインポートする．\n",
        "\n",
        "### GPUの確認\n",
        "GPUを使用した計算が可能かどうかを確認します．\n",
        "\n",
        "`Use CUDA: True`と表示されれば，GPUを使用した計算をPyTorchで行うことが可能です．\n",
        "Falseとなっている場合は，上記の「Google Colaboratoryの設定確認・変更」に記載している手順にしたがって，設定を変更した後に，モジュールのインポートから始めてください．\n"
      ],
      "metadata": {
        "id": "sMPi_rVrXWQf"
      }
    },
    {
      "cell_type": "code",
      "source": [
        "# モジュールのインポート\n",
        "import numpy as np\n",
        "from time import time\n",
        "import torch\n",
        "import torch.nn as nn\n",
        "\n",
        "import torchvision\n",
        "import torchvision.transforms as transforms\n",
        "\n",
        "import torchsummary\n",
        "\n",
        "# GPUの確認\n",
        "use_cuda = torch.cuda.is_available()\n",
        "print('Use CUDA:', use_cuda)"
      ],
      "metadata": {
        "colab": {
          "base_uri": "https://localhost:8080/"
        },
        "id": "QTYTcXSaXXTD",
        "outputId": "d7518c81-76f6-4ad9-fc40-313f6570230f"
      },
      "execution_count": 1,
      "outputs": [
        {
          "output_type": "stream",
          "name": "stdout",
          "text": [
            "Use CUDA: True\n"
          ]
        }
      ]
    },
    {
      "cell_type": "markdown",
      "source": [
        "## データセットの読み込みと確認\n",
        "学習データ（CIFAR10データセット）を読み込みます．\n",
        "\n",
        "読み込んだ学習データのサイズを確認します．\n",
        "学習データは5万枚，1つのデータサイズは3x32x32の画像のような形式となっています．\n",
        "これは32x32ピクセルのカラー画像という意味になります．"
      ],
      "metadata": {
        "id": "gQK9FakSXgmc"
      }
    },
    {
      "cell_type": "code",
      "source": [
        "train_data = torchvision.datasets.CIFAR10(root=\"./\", train=True, transform=transforms.ToTensor(), download=True)\n",
        "\n",
        "print(train_data)"
      ],
      "metadata": {
        "colab": {
          "base_uri": "https://localhost:8080/",
          "height": 188,
          "referenced_widgets": [
            "7c49a6143c274e4281c6bc4317a14acd",
            "bd67a6265ffb455d8c3bcdd0aa6e6143",
            "3c708f713db546d38d3b7b2dc1b8c98e",
            "30c07243be9a4e8fa18640ff349bd2b8",
            "0f3ec763d8fb417a80b2644a1bafce5d",
            "6e0857d7bd5e42ab8e7317534f85744e",
            "854908d00249425ba2cabeecdb81d4a8",
            "e7f06db8a4144a49bde2e6754411d351",
            "f0e7a1551efc478dbc803d4a19694a5e",
            "397de1dd1a764216a5462e15360a8911",
            "2a393fa708a7470c85d4f3c5972390f6"
          ]
        },
        "id": "ZcQsdRwyXY3q",
        "outputId": "3a615997-c398-4718-b5f8-02ff7f4cd686"
      },
      "execution_count": 2,
      "outputs": [
        {
          "output_type": "stream",
          "name": "stdout",
          "text": [
            "Downloading https://www.cs.toronto.edu/~kriz/cifar-10-python.tar.gz to ./cifar-10-python.tar.gz\n"
          ]
        },
        {
          "output_type": "display_data",
          "data": {
            "text/plain": [
              "  0%|          | 0/170498071 [00:00<?, ?it/s]"
            ],
            "application/vnd.jupyter.widget-view+json": {
              "version_major": 2,
              "version_minor": 0,
              "model_id": "7c49a6143c274e4281c6bc4317a14acd"
            }
          },
          "metadata": {}
        },
        {
          "output_type": "stream",
          "name": "stdout",
          "text": [
            "Extracting ./cifar-10-python.tar.gz to ./\n",
            "Dataset CIFAR10\n",
            "    Number of datapoints: 50000\n",
            "    Root location: ./\n",
            "    Split: Train\n",
            "    StandardTransform\n",
            "Transform: ToTensor()\n"
          ]
        }
      ]
    },
    {
      "cell_type": "markdown",
      "source": [
        "## ネットワークモデルの定義\n",
        "\n",
        "畳み込みニューラルネットワークを定義します．\n",
        "\n",
        "ここでは，畳み込み層２層，全結合層３層から構成されるネットワークとします．\n",
        "\n",
        "1層目の畳み込み層は入力チャンネル数が1，出力する特徴マップ数が16，畳み込むフィルタサイズが3x3です．\n",
        "2層目の畳み込み層は入力チャネル数が16．出力する特徴マップ数が32，畳み込むフィルタサイズは同じく3x3です．\n",
        "１つ目の全結合層は入力ユニット数は`7*7*32`とし，出力は1024としています．\n",
        "次の全結合層入力，出力共に1024，出力層は入力が1024，出力が10です．\n",
        "また，活性化関数として`self.act`にシグモイド関数を定義します．\n",
        "さらに，プーリング処理を行うための`self.pool`を定義します．\n",
        "ここでは，maxpoolingを使用します．\n",
        "これらの各層の構成を`__init__`関数で定義します．\n",
        "\n",
        "次に，`forward`関数では，定義した層を接続して処理するように記述します．\n",
        "`forward`関数の引数`x`は入力データです．\n",
        "それを`__init__`関数で定義した`conv1`に入力し，その出力を活性化関数である`self.act`に与えます．\n",
        "そして，その出力を`self.pool`に与えて，プーリング処理結果を`h`として出力します．\n",
        "2層目の畳み込み層でも同様の手順で処理を行います．\n",
        "\n",
        "畳み込みを適用した後の特徴マップを全結合層へと入力して，識別結果を出力します．\n",
        "まず．畳み込みによって得られた特徴マップの形状（チャンネルx縦x横）を1次元の配列へと変換します．\n",
        "ここで，`view()`を用いることで，`h`の配列を操作します．引数として，変換したい配列のサイズを入力します．\n",
        "まず一つ目の引数の`h.size()[0]`で，`h`の1次元目のサイズを取得し，変換後の配列の1次元目のサイズとして指定します．\n",
        "二つ目の引数の`-1`で任意のサイズを指定します．\n",
        "これにより，`h`を（バッチ数x任意の長さのデータ）の形状へ変換します．\n",
        "変換した`h`を全結合層および活性化関数へと順次入力することで，最終的にクラススコアを返します．"
      ],
      "metadata": {
        "id": "_bXyujDDXi_U"
      }
    },
    {
      "cell_type": "code",
      "source": [
        "class CNN(nn.Module):\n",
        "    def __init__(self):\n",
        "        super(CNN, self).__init__()\n",
        "        self.conv1 = nn.Conv2d(3, 16, kernel_size=3, stride=1, padding=1)\n",
        "        self.conv2 = nn.Conv2d(16, 32, kernel_size=3, stride=1, padding=1)\n",
        "        self.l1 = nn.Linear(8 * 8 * 32, 1024)\n",
        "        self.l2 = nn.Linear(1024, 1024)\n",
        "        self.l3 = nn.Linear(1024, 10)\n",
        "        self.act = nn.ReLU()\n",
        "        self.pool = nn.MaxPool2d(2, 2)\n",
        "    \n",
        "    def forward(self, x):\n",
        "        h = self.pool(self.act(self.conv1(x)))\n",
        "        h = self.pool(self.act(self.conv2(h)))\n",
        "        h = h.view(h.size()[0], -1)\n",
        "        h = self.act(self.l1(h))\n",
        "        h = self.act(self.l2(h))\n",
        "        h = self.l3(h)\n",
        "        return h"
      ],
      "metadata": {
        "id": "eouZg6DwXqPp"
      },
      "execution_count": 3,
      "outputs": []
    },
    {
      "cell_type": "markdown",
      "source": [
        "## ネットワークの作成\n",
        "上のプログラムで定義したネットワークを作成します．\n",
        "\n",
        "`CNN`クラスを呼び出して，ネットワークモデルを定義します．\n",
        "また，GPUを使う場合（`use_cuda == True`）には，ネットワークモデルをGPUメモリ上に配置します．\n",
        "これにより，GPUを用いた演算が可能となります．\n",
        "\n",
        "学習を行う際の最適化方法としてモーメンタムSGD(モーメンタム付き確率的勾配降下法）を利用します．\n",
        "また，学習率を0.01，モーメンタムを0.9として引数に与えます．"
      ],
      "metadata": {
        "id": "elin-wM9XnA4"
      }
    },
    {
      "cell_type": "code",
      "source": [
        "model = CNN()\n",
        "if use_cuda:\n",
        "    model.cuda()\n",
        "\n",
        "optimizer = torch.optim.SGD(model.parameters(), lr=0.01, momentum=0.9)\n",
        "\n",
        "# モデルの情報を表示\n",
        "torchsummary.summary(model, (3, 32, 32))"
      ],
      "metadata": {
        "colab": {
          "base_uri": "https://localhost:8080/"
        },
        "id": "ZeLhrey0XlWf",
        "outputId": "f78b5bc3-efd2-4a11-9302-17198e84d3e3"
      },
      "execution_count": 4,
      "outputs": [
        {
          "output_type": "stream",
          "name": "stdout",
          "text": [
            "----------------------------------------------------------------\n",
            "        Layer (type)               Output Shape         Param #\n",
            "================================================================\n",
            "            Conv2d-1           [-1, 16, 32, 32]             448\n",
            "              ReLU-2           [-1, 16, 32, 32]               0\n",
            "         MaxPool2d-3           [-1, 16, 16, 16]               0\n",
            "            Conv2d-4           [-1, 32, 16, 16]           4,640\n",
            "              ReLU-5           [-1, 32, 16, 16]               0\n",
            "         MaxPool2d-6             [-1, 32, 8, 8]               0\n",
            "            Linear-7                 [-1, 1024]       2,098,176\n",
            "              ReLU-8                 [-1, 1024]               0\n",
            "            Linear-9                 [-1, 1024]       1,049,600\n",
            "             ReLU-10                 [-1, 1024]               0\n",
            "           Linear-11                   [-1, 10]          10,250\n",
            "================================================================\n",
            "Total params: 3,163,114\n",
            "Trainable params: 3,163,114\n",
            "Non-trainable params: 0\n",
            "----------------------------------------------------------------\n",
            "Input size (MB): 0.01\n",
            "Forward/backward pass size (MB): 0.45\n",
            "Params size (MB): 12.07\n",
            "Estimated Total Size (MB): 12.53\n",
            "----------------------------------------------------------------\n"
          ]
        }
      ]
    },
    {
      "cell_type": "markdown",
      "source": [
        "## 学習\n",
        "読み込んだMNISTデータセットと作成したネットワークを用いて，学習を行います．\n",
        "\n",
        "1回の誤差を算出するデータ数（ミニバッチサイズ）を64，学習エポック数を10とします．\n",
        "\n",
        "次にデータローダーを定義します．\n",
        "データローダーでは，上で読み込んだデータセット（`train_data`）を用いて，for文で指定したミニバッチサイズでデータを読み込むオブジェクトを作成します．\n",
        "この時，`shuffle=True`と設定することで，読み込むデータを毎回ランダムに指定します．\n",
        "\n",
        "次に，誤差関数を設定します．\n",
        "今回は，分類問題をあつかうため，クロスエントロピー誤差を計算するための`CrossEntropyLoss`を`criterion`として定義します．\n",
        "\n",
        "学習を開始します．\n",
        "\n",
        "各更新において，学習用データと教師データをそれぞれ`image`と`label`とします．\n",
        "学習モデルにimageを与えて各クラスの確率yを取得します．\n",
        "各クラスの確率yと教師ラベルtとの誤差を`criterion`で算出します．\n",
        "また，認識精度も算出します．\n",
        "そして，誤差をbackward関数で逆伝播し，ネットワークの更新を行います．"
      ],
      "metadata": {
        "id": "IvKDPCAfXs0x"
      }
    },
    {
      "cell_type": "code",
      "source": [
        "# ミニバッチサイズ・エポック数の設定\n",
        "batch_size = 64\n",
        "epoch_num = 10\n",
        "n_iter = len(train_data) / batch_size\n",
        "\n",
        "# データローダーの設定\n",
        "train_loader = torch.utils.data.DataLoader(train_data, batch_size=batch_size, shuffle=True)\n",
        "\n",
        "# 誤差関数の設定\n",
        "criterion = nn.CrossEntropyLoss()\n",
        "if use_cuda:\n",
        "    criterion.cuda()\n",
        "\n",
        "# ネットワークを学習モードへ変更\n",
        "model.train()\n",
        "\n",
        "start = time()\n",
        "for epoch in range(1, epoch_num+1):\n",
        "    sum_loss = 0.0\n",
        "    count = 0\n",
        "    \n",
        "    for image, label in train_loader:\n",
        "        \n",
        "        if use_cuda:\n",
        "            image = image.cuda()\n",
        "            label = label.cuda()\n",
        "            \n",
        "        y = model(image)\n",
        "        \n",
        "        loss = criterion(y, label)\n",
        "        \n",
        "        model.zero_grad()\n",
        "        loss.backward()\n",
        "        optimizer.step()\n",
        "        \n",
        "        sum_loss += loss.item()\n",
        "        \n",
        "        pred = torch.argmax(y, dim=1)\n",
        "        count += torch.sum(pred == label)\n",
        "        \n",
        "    print(\"epoch: {}, mean loss: {}, mean accuracy: {}, elapsed_time :{}\".format(epoch,\n",
        "                                                                                 sum_loss / n_iter,\n",
        "                                                                                 count.item() / len(train_loader),\n",
        "                                                                                 time() - start))"
      ],
      "metadata": {
        "colab": {
          "base_uri": "https://localhost:8080/"
        },
        "id": "9FpvbQi-XrlD",
        "outputId": "c5f7796e-beb5-46dc-ce51-0237fe8c2d95"
      },
      "execution_count": 5,
      "outputs": [
        {
          "output_type": "stream",
          "name": "stdout",
          "text": [
            "epoch: 1, mean loss: 1.846470560760498, mean accuracy: 20.78388746803069, elapsed_time :15.92044973373413\n",
            "epoch: 2, mean loss: 1.3672926894378663, mean accuracy: 32.13427109974425, elapsed_time :33.744306325912476\n",
            "epoch: 3, mean loss: 1.156839063796997, mean accuracy: 37.55882352941177, elapsed_time :49.20323920249939\n",
            "epoch: 4, mean loss: 0.9927894921875, mean accuracy: 41.448849104859335, elapsed_time :65.9617190361023\n",
            "epoch: 5, mean loss: 0.8665868920898437, mean accuracy: 44.28132992327366, elapsed_time :85.0137836933136\n",
            "epoch: 6, mean loss: 0.7346456479263306, mean accuracy: 47.38363171355499, elapsed_time :100.63436841964722\n",
            "epoch: 7, mean loss: 0.602888935432434, mean accuracy: 50.373401534526856, elapsed_time :116.15855288505554\n",
            "epoch: 8, mean loss: 0.46698528783798215, mean accuracy: 53.34526854219949, elapsed_time :131.65439414978027\n",
            "epoch: 9, mean loss: 0.33445342794418337, mean accuracy: 56.42199488491048, elapsed_time :147.41980528831482\n",
            "epoch: 10, mean loss: 0.24423244321346282, mean accuracy: 58.53708439897698, elapsed_time :162.87550735473633\n"
          ]
        }
      ]
    },
    {
      "cell_type": "markdown",
      "source": [
        "## オレオレデータを読み込むプログラム\n",
        "\n",
        "**準備**\n",
        "*   Google Driveにデータをアップロード\n",
        "*   例：\"My_Data\"というフォルダ名にしてアップロード\n",
        "*   My_Dataに\"airplane\"，\"cat\"といったフォルダを作成\n",
        "*   その中に画像ファイルを入れる\n",
        "\n",
        "\n",
        "つまり，Google Driveの\"My_Data\"内は\"My_Data/hoge/image.jpeg\"が入っています\n",
        "\n",
        "$ {\\rm hoge} \\in\\ \\{ {\\rm airplane}, {\\rm automobile}, \\ldots, {\\rm truck} \\}$, \n",
        "$ {\\rm image} \\in\\ \\{ {\\rm 1}, {\\rm 2}, \\ldots, {\\rm n} \\}$\n",
        "\n",
        "\n",
        "\n"
      ],
      "metadata": {
        "id": "vFGG9AEGXw23"
      }
    },
    {
      "cell_type": "code",
      "source": [
        "import os\n",
        "import sys\n",
        "import matplotlib.pyplot as plt\n",
        "from glob import glob\n",
        "from PIL import Image, ImageFilter\n",
        "from google.colab import drive\n",
        "\n",
        "# Google Driveをインポート\n",
        "drive_path = '/content/drive'\n",
        "drive.mount(drive_path)\n",
        "\n",
        "# オレオレデータフォルダを読み込みます\n",
        "# パスは'/content/drive/MyDrive/My_Data/hoge'のようになり，リスト化されています\n",
        "# hogeはフォルダ名で，フォルダ下に01.jpeg，02.jpeg，...とそれぞれファイルが格納されているとそのまま動きます\n",
        "paths = sorted(glob(os.path.join(drive_path+\"/MyDrive/My_Data/*\")))\n",
        "print(paths)"
      ],
      "metadata": {
        "colab": {
          "base_uri": "https://localhost:8080/"
        },
        "id": "ogGUDEVhXuPd",
        "outputId": "b9e3508a-9624-424f-bcf2-2453d8947b7e"
      },
      "execution_count": 7,
      "outputs": [
        {
          "output_type": "stream",
          "name": "stdout",
          "text": [
            "Drive already mounted at /content/drive; to attempt to forcibly remount, call drive.mount(\"/content/drive\", force_remount=True).\n",
            "['/content/drive/MyDrive/My_Data/airplane', '/content/drive/MyDrive/My_Data/automobile', '/content/drive/MyDrive/My_Data/bird', '/content/drive/MyDrive/My_Data/cat', '/content/drive/MyDrive/My_Data/deer', '/content/drive/MyDrive/My_Data/dog', '/content/drive/MyDrive/My_Data/frog', '/content/drive/MyDrive/My_Data/horse', '/content/drive/MyDrive/My_Data/ship', '/content/drive/MyDrive/My_Data/truck']\n"
          ]
        }
      ]
    },
    {
      "cell_type": "markdown",
      "source": [
        "MyDatasetでオレオレデータセットを読み込みます"
      ],
      "metadata": {
        "id": "Im_FyMlOX0lH"
      }
    },
    {
      "cell_type": "code",
      "source": [
        "# 今回はCIFAR-10pre-trainedモデルを使うので，教師ラベルは以下で定義\n",
        "label_names = np.array([\n",
        "    \"airplane\",\n",
        "    \"automobile\",\n",
        "    \"bird\",\n",
        "    \"cat\",\n",
        "    \"deer\",\n",
        "    \"dog\",\n",
        "    \"frog\",\n",
        "    \"horse\",\n",
        "    \"ship\",\n",
        "    \"truck\"])\n",
        "\n",
        "# オレオレデータローダを作成します．\n",
        "class MyDataset(torch.utils.data.Dataset):\n",
        "    def __init__(self, paths, transform = None):\n",
        "        self.transform = transform\n",
        "        # ここでオレオレデータファイルのパスを取得します\n",
        "        # 拡張子が\".jpeg\"になっていますが，\".png\"などでも動きます\n",
        "        list_data = [sorted(glob(os.path.join(file_path, '*.jpeg'))) for file_path in paths]\n",
        "        # リストをフラット化\n",
        "        self.data = sum(list_data, [])\n",
        "\n",
        "    # オレオレデータファイルの数\n",
        "    def __len__(self) -> int:\n",
        "        return len(self.data)\n",
        "\n",
        "    def __getitem__(self, idx):\n",
        "        data = self.data[idx]\n",
        "        # 教師ラベルの定義をします\n",
        "        label = os.path.basename(os.path.dirname(data))\n",
        "        label = np.where(label == label_names)\n",
        "        # ファイルパスから画像データを読み込む\n",
        "        data = Image.open(data)\n",
        "        data = self.transform(data)\n",
        "        return data, label[0]"
      ],
      "metadata": {
        "id": "3MV1ynX3XzGR"
      },
      "execution_count": 8,
      "outputs": []
    },
    {
      "cell_type": "markdown",
      "source": [
        "CIFAR-10pre-trainedモデルを使って評価してみます"
      ],
      "metadata": {
        "id": "V8jKNO19X8B8"
      }
    },
    {
      "cell_type": "code",
      "source": [
        "# CIFAR-10に合わせて32x32にリサイズ\n",
        "transform_test = transforms.Compose([\n",
        "    transforms.Resize((32, 32)),\n",
        "    transforms.CenterCrop(32),\n",
        "    transforms.ToTensor(),\n",
        "])\n",
        "\n",
        "test_data = MyDataset(paths, transform=transform_test)\n",
        "# データローダーの準備\n",
        "batch_size = 1\n",
        "test_loader = torch.utils.data.DataLoader(test_data, batch_size=batch_size, shuffle=False)\n",
        "\n",
        "# ネットワークを評価モードへ変更\n",
        "model.eval()\n",
        "\n",
        "plt.figure(figsize=[10, 10])\n",
        "# 評価の実行\n",
        "count = 0\n",
        "num = 1\n",
        "with torch.no_grad():\n",
        "    for image, label in test_loader:\n",
        "        label = torch.flatten(label)\n",
        "\n",
        "        if use_cuda:\n",
        "            image = image.cuda()\n",
        "            label = label.cuda()\n",
        "            \n",
        "        y = model(image)\n",
        "\n",
        "        pred = torch.argmax(y, dim=1)\n",
        "        count += torch.sum(pred == label)\n",
        "\n",
        "        # 画像の表示\n",
        "        # 上が教師ラベル，下が予測ラベルになります．\n",
        "        for b in range(batch_size):\n",
        "            # 4, 5は行，列を表すので，オレオレデータ数によって変わります\n",
        "            # 今回のデータは全部で20枚(各ラベル2枚ずつ)あるので，この数で指定しています\n",
        "            plt.subplot(4, 5, b+num)\n",
        "            plt.imshow(image[b].permute(1,2,0).detach().cpu().numpy())\n",
        "            plt.title(\"label : \" + label_names[label[b]])\n",
        "            plt.xlabel(\"pred : \" + label_names[pred[b]])\n",
        "            plt.tick_params(labelbottom=False, labelleft=False, labelright=False, labeltop=False)\n",
        "            plt.tick_params(bottom=False, left=False, right=False, top=False)\n",
        "        num += batch_size\n",
        "\n",
        "print(\"test accuracy: {}\".format(count.item() / (len(test_loader)*batch_size)))\n",
        "plt.show()"
      ],
      "metadata": {
        "colab": {
          "base_uri": "https://localhost:8080/",
          "height": 600
        },
        "id": "1bMELxLCX_l-",
        "outputId": "eff58fa8-ca4a-4ee3-cc2a-1a30334f6567"
      },
      "execution_count": 11,
      "outputs": [
        {
          "output_type": "stream",
          "name": "stdout",
          "text": [
            "test accuracy: 0.75\n"
          ]
        },
        {
          "output_type": "display_data",
          "data": {
            "text/plain": [
              "<Figure size 720x720 with 20 Axes>"
            ],
            "image/png": "[encoded data removed]"
          },
          "metadata": {}
        }
      ]
    },
    {
      "cell_type": "code",
      "source": [
        ""
      ],
      "metadata": {
        "id": "ukPjUolfYtxt"
      },
      "execution_count": null,
      "outputs": []
    }
  ]
}