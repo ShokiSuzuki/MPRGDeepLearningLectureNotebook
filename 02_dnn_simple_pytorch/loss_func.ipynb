{
 "cells": [
  {
   "cell_type": "markdown",
   "metadata": {},
   "source": [
    "# Loss関数の違いによる学習効果\n",
    "\n",
    "---\n",
    "\n",
    "## 目的\n",
    "\n"
   ]
  },
  {
   "cell_type": "markdown",
   "metadata": {},
   "source": []
  }
 ],
 "metadata": {
  "language_info": {
   "name": "python"
  },
  "orig_nbformat": 4
 },
 "nbformat": 4,
 "nbformat_minor": 2
}
