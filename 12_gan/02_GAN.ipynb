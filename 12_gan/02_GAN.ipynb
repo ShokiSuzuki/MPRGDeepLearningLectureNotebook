{
  "nbformat": 4,
  "nbformat_minor": 0,
  "metadata": {
    "kernelspec": {
      "display_name": "Python 3",
      "language": "python",
      "name": "python3"
    },
    "language_info": {
      "codemirror_mode": {
        "name": "ipython",
        "version": 3
      },
      "file_extension": ".py",
      "mimetype": "text/x-python",
      "name": "python",
      "nbconvert_exporter": "python",
      "pygments_lexer": "ipython3",
      "version": "3.6.9"
    },
    "colab": {
      "name": "02_GAN.ipynb",
      "private_outputs": true,
      "provenance": [],
      "collapsed_sections": [],
      "toc_visible": true,
      "include_colab_link": true
    },
    "accelerator": "GPU"
  },
  "cells": [
    {
      "cell_type": "markdown",
      "metadata": {
        "id": "view-in-github",
        "colab_type": "text"
      },
      "source": [
        "<a href=\"https://colab.research.google.com/github/machine-perception-robotics-group/MPRGDeepLearningLectureNotebook/blob/master/12_gan/02_GAN.ipynb\" target=\"_parent\"><img src=\"https://colab.research.google.com/assets/colab-badge.svg\" alt=\"Open In Colab\"/></a>"
      ]
    },
    {
      "cell_type": "markdown",
      "metadata": {
        "id": "3QMtdu1IbpZL"
      },
      "source": [
        "# Generative Adversarial Networks (GAN)\n",
        "## 目的\n",
        "GANによって画像の生成をして動作を理解する．"
      ]
    },
    {
      "cell_type": "markdown",
      "metadata": {
        "id": "U-n2P--PtOHr"
      },
      "source": [
        "## 必要なモジュールのインポート\n",
        "Pytorchで学習するときに必要となるモジュールをインポートします．"
      ]
    },
    {
      "cell_type": "code",
      "metadata": {
        "id": "uOIgRbOGbpZM"
      },
      "source": [
        "import os\n",
        "import zipfile\n",
        "import urllib.request\n",
        "import numpy as np\n",
        "from PIL import Image\n",
        "%matplotlib inline\n",
        "import matplotlib.pyplot as plt\n",
        "\n",
        "import torch\n",
        "import torch.nn as nn\n",
        "import torch.optim as optim\n",
        "from torch.utils.data import DataLoader, Dataset\n",
        "from torchvision import datasets, transforms"
      ],
      "execution_count": null,
      "outputs": []
    },
    {
      "cell_type": "markdown",
      "metadata": {
        "id": "Tbo56TMkbpZP"
      },
      "source": [
        "## ネットワークの構築\n",
        "GANは，Generator (生成器)とDiscriminator (識別器)と呼ばれる２つのネットワークによって構成されている生成モデルです．\n",
        "そのため，2つのネットワークを別々に構築します． <br>\n",
        "Generatorは，$N(0, 1)$や$U[-1, 1]$からサンプリングした潜在変数を入力して画像を生成するネットワークです．Generatorは，綺麗な画像を生成することでDiscriminatorを欺くことを目的としています．<br>\n",
        "一方で，Discriminatorは実画像 (訓練画像)またはGeneratorが生成した画像のどちらかを入力して，入力されたデータを正確に判別するネットワークです．Discriminatorは，入力画像の中からGeneratorの生成した画像を見破ることを目的としています．<br>\n",
        "GANの学習は，一般的な事象に置き換えて，しばしば，「偽札製造者と警察官」を例に出して説明することがあります．この場合Generatorが偽札製造者でDiscriminatorが警察官です．<br>\n",
        "GANのネットワークを簡易的に表現したものを，以下に示します．<br>\n",
        "<img src=\"https://dl.dropboxusercontent.com/s/deek34es6dqu4lb/gan.png\" width=50%>\n",
        "\n",
        "GANの最終的な目的は，実画像$x$の確率分布$p_{data}(x)$と実画像$x$をGenerator上の分布で見た時の確率分布$p_{g}(x)$が一致することです．つまり，$p_{data}(x)=p_{g}(x)$が成立した時にDiscriminatorが完全にRealなのかFakeなのかわからなくなっていると言えます．<br>\n",
        "Generator及びDiscriminatorの構造は非常にシンプルで，全結合とReLUによって構築します．"
      ]
    },
    {
      "cell_type": "code",
      "metadata": {
        "id": "OXQrlp9UbpZP"
      },
      "source": [
        "class Generator(nn.Module):\n",
        "    def __init__(self, latent_dim=100):\n",
        "        super(Generator, self).__init__()\n",
        "        self.layer = nn.Sequential(\n",
        "            nn.Linear(latent_dim, 256),\n",
        "            nn.ReLU(inplace=True),\n",
        "            nn.Linear(256, 512),\n",
        "            nn.ReLU(inplace=True),\n",
        "            nn.Linear(512, 784))\n",
        "        \n",
        "    def forward(self, z):\n",
        "        return self.layer(z)\n",
        "    \n",
        "class Discriminator(nn.Module):\n",
        "    def __init__(self):\n",
        "        super(Discriminator, self).__init__()\n",
        "        self.layer = nn.Sequential(\n",
        "            nn.Linear(784, 512),\n",
        "            nn.ReLU(inplace=True),\n",
        "            nn.Linear(512, 256),\n",
        "            nn.ReLU(inplace=True),\n",
        "            nn.Linear(256, 1))\n",
        "    \n",
        "    def forward(self, x):\n",
        "        return self.layer(x)"
      ],
      "execution_count": null,
      "outputs": []
    },
    {
      "cell_type": "markdown",
      "metadata": {
        "id": "iRtlFoWxbpZR"
      },
      "source": [
        "## データセットと最適化関数\n",
        "データセットにはMNISTを使用します．\n",
        "最適化関数はAdam optimizer使用し，学習率$2\\times 10^4$，betaの値を$0.5, 0.999$として学習します．"
      ]
    },
    {
      "cell_type": "code",
      "metadata": {
        "id": "Cjofi7eLbVem"
      },
      "source": [
        "class MNIST_Loader(Dataset):\n",
        "  def __init__(self, train=True, download=True, transform=None):\n",
        "    self.transform = transform\n",
        "    self.url = 'https://www.dropbox.com/s/hc7ukm7vzst5e40/MNIST.zip?dl=1'\n",
        "    \n",
        "    if download:\n",
        "      self._download()\n",
        "    \n",
        "    dname = os.path.join(self.url.rpartition('/')[2][:-9], 'processed')\n",
        "    if train:\n",
        "      datapath = os.path.join(dname, 'training.pt')\n",
        "    else:\n",
        "      datapath = os.path.join(dname, 'test.pt')\n",
        "  \n",
        "    self.data = torch.load(datapath)\n",
        "\n",
        "  def __len__(self):\n",
        "    return len(self.data[0])\n",
        "\n",
        "  def _download(self):\n",
        "    filename = self.url.rpartition('/')[2][:-5]\n",
        "    urllib.request.urlretrieve(self.url, filename)\n",
        "\n",
        "    with zipfile.ZipFile(filename) as existing_zip:\n",
        "      existing_zip.extractall()\n",
        "    os.remove(filename)\n",
        "\n",
        "  def __getitem__(self, i):\n",
        "    image = transforms.ToPILImage()(self.data[0][i])\n",
        "    label = self.data[1][i]\n",
        "\n",
        "    if self.transform:\n",
        "      image = self.transform(image)\n",
        "    return image, label"
      ],
      "execution_count": null,
      "outputs": []
    },
    {
      "cell_type": "code",
      "metadata": {
        "id": "muwbLKFzbpZS"
      },
      "source": [
        "transform_train = transforms.Compose([transforms.ToTensor()])\n",
        "try:\n",
        "  mnist_data = datasets.MNIST(root='./data', train=True, transform=transform_train, download=True)\n",
        "except:\n",
        "  print('Warning: Switch the original implementation because official MNIST data did not download (probably the official server has down).')\n",
        "  mnist_data = MNIST_Loader(train=True, download=True, transform=transform_train)\n",
        "print('Done!') \n",
        "training_data = DataLoader(mnist_data, batch_size=100, shuffle=True)\n",
        "\n",
        "device = torch.device(\"cuda:0\" if torch.cuda.is_available() else \"cpu\")\n",
        "latent_dim = 100\n",
        "G = Generator(latent_dim=latent_dim).to(device)\n",
        "D = Discriminator().to(device)\n",
        "opt_g = optim.Adam(G.parameters(), lr=0.0002, betas=(0.5, 0.999))\n",
        "opt_d = optim.Adam(D.parameters(), lr=0.0002, betas=(0.5, 0.999))"
      ],
      "execution_count": null,
      "outputs": []
    },
    {
      "cell_type": "markdown",
      "metadata": {
        "id": "VuiMK-hUbpZU"
      },
      "source": [
        "## GANの学習\n",
        "ここでは，Generator及びDiscriminatorを用いてGANの学習をします．<br>\n",
        "GANの最適化式は以下に示すとおりです．\n",
        "$$\n",
        "\\min_{G}\\max_{D}V(D, G) = \\mathbb{E}_{x\\sim P_{data}(x)}\\left[\\log\\left(D(x)\\right)\\right] + \\mathbb{E}_{z\\sim P(z)}\\left[\\log\\left(1 - D(\\hat{x})\\right)\\right]\n",
        "$$\n",
        "ここで，$x$は実画像で$\\hat{x}$がGeneratorの生成した画像G(z)に対応します．<br>\n",
        "GANを学習する際は，binary cross entopyを用いて，実画像は1に，生成画像は0に近似するように学習をします．\n",
        "Discriminatorは，実画像は1生成画像は0と識別するとように学習をしますが，Generatorは生成した画像を実画像であるとDiscriminatorに誤識別をさせたいので，1と識別されるように学習をします．\n",
        "\n",
        "これによりGANの醍醐味である敵対学習を完成させることができます．<br>\n",
        "ここで，n_epochは学習回数です．n_criticはdiscriminatorを1 iterationで何回更新するかの数となっています．<br>\n",
        "Discriminatorを複数回更新した後にGeneratorを1回更新する理由は，モード崩壊を防止するためです．モード崩壊とは，GANの学習では深刻な問題で，Generatorがある一定の画像しか生成できなることや全く画像が生成できなくなることを指します．<br>\n",
        "Discriminatorは，おバカすぎてもダメで，賢すぎてもダメなのでいい塩梅をn_criticで指定しましょう．n_criticが多いと簡単にモード崩壊します．　（理想は2回ぐらいだと思います．）"
      ]
    },
    {
      "cell_type": "code",
      "metadata": {
        "id": "fan3aF6zbpZU"
      },
      "source": [
        "n_epoch = 10\n",
        "n_critic = 2\n",
        "criterion = nn.BCEWithLogitsLoss()\n",
        "\n",
        "for epoch in range(1, n_epoch+1):\n",
        "    Tensor = torch.cuda.FloatTensor\n",
        "    for idx, (real_x, _) in enumerate(training_data):\n",
        "        real_x = real_x.cuda()\n",
        "        batch = real_x.size(0)\n",
        "        flag_real = Tensor(batch, 1).fill_(1.0)\n",
        "        flag_fake = Tensor(batch, 1).fill_(0.0)\n",
        "        \n",
        "        for _ in range(n_critic):\n",
        "            D.zero_grad()\n",
        "            z = torch.randn(batch, latent_dim).to(device)\n",
        "            fake_x = G(z)\n",
        "            out_real = D(real_x.view(batch, -1))\n",
        "            out_fake = D(fake_x.detach().view(batch, -1))\n",
        "            loss_real = criterion(out_real, flag_real)\n",
        "            loss_fake = criterion(out_fake, flag_fake)\n",
        "            dis_loss = loss_real + loss_fake\n",
        "            dis_loss.backward()\n",
        "            opt_d.step()\n",
        "            \n",
        "        G.zero_grad()\n",
        "        z = torch.randn(batch, latent_dim).to(device)\n",
        "        fake_x = G(z)\n",
        "        out_gen = D(fake_x)\n",
        "        gen_loss = criterion(out_gen, flag_real)\n",
        "        gen_loss.backward()\n",
        "        opt_g.step()\n",
        "        \n",
        "        if idx % 100 == 0:\n",
        "            print('Training epoch: {} [{}/{} ({:.0f}%)] | D loss: {:.6f} | G loss: {:.6f} |'\\\n",
        "                  .format(epoch, idx * len(real_x), len(training_data.dataset),\n",
        "                  100. * idx / len(training_data), dis_loss.item(), gen_loss.item()))"
      ],
      "execution_count": null,
      "outputs": []
    },
    {
      "cell_type": "markdown",
      "metadata": {
        "id": "MvfYDd_0H-lT"
      },
      "source": [
        "## 学習したGeneratorによる画像生成"
      ]
    },
    {
      "cell_type": "code",
      "metadata": {
        "id": "S5WW2f9HbpZX"
      },
      "source": [
        "z = torch.randn(100, 100).to(device)\n",
        "test_img = G(z)\n",
        "test_img_array = (test_img * 256.).clamp(min=0., max=255.).data.cpu().numpy().reshape(28, 28)\n",
        "\n",
        "fig = plt.figure(figsize=(10, 10))\n",
        "for i, im in enumerate(test_img_array):\n",
        "    ax = fig.add_subplot(10, 10, i+1, xticks=[], yticks=[])\n",
        "    ax.imshow(im, 'gray')"
      ],
      "execution_count": null,
      "outputs": []
    },
    {
      "cell_type": "markdown",
      "metadata": {
        "id": "lWzsGnZxJYkg"
      },
      "source": [
        "# 課題\n",
        "1. 学習を増やすことで本物らしい画像になるか確認してみましょう．\n",
        "2.   潜在変数の次元数を100次元から減らした場合どうなるでしょうか．また，増やした場合はどのようになるでしょうか．\n",
        "3.   意図的にモード崩壊させてみてください．どのような画像が生成されるか確認しましょう．"
      ]
    },
    {
      "cell_type": "markdown",
      "metadata": {
        "id": "N3jn_GNko7JP"
      },
      "source": [
        "# 参考文献\n",
        "[1] Ian Goodfellow, Jean Pouget-Abadie, Mehdi Mirza, Bing Xu, David Warde-Farley, Sherjil Ozair, Aaron Courville and Yoshua Bengio, Generative adversarial nets, NIPS, 2014."
      ]
    },
    {
      "cell_type": "code",
      "metadata": {
        "id": "80b8a5b_bpZb"
      },
      "source": [
        ""
      ],
      "execution_count": null,
      "outputs": []
    }
  ]
}