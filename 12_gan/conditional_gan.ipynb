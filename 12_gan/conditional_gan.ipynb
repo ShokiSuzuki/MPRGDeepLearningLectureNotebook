{
  "cells": [
    {
      "cell_type": "markdown",
      "metadata": {
        "id": "view-in-github",
        "colab_type": "text"
      },
      "source": [
        "<a href=\"https://colab.research.google.com/github/machine-perception-robotics-group/MPRGDeepLearningLectureNotebook/blob/master/12_gan/conditional_gan.ipynb\" target=\"_parent\"><img src=\"https://colab.research.google.com/assets/colab-badge.svg\" alt=\"Open In Colab\"/></a>"
      ]
    },
    {
      "cell_type": "markdown",
      "metadata": {
        "id": "QAT-iz9wcBRX"
      },
      "source": [
        "# Conditional GAN (cGAN)\n",
        "\n",
        "---\n",
        "## 目的\n",
        "条件付きのGAN (conditional GAN; cGAN) によって意図した画像の生成をして動作を理解する．\n",
        "## モジュールのインポート\n",
        "\n",
        "はじめに必要となるモジュールをインポートします．\n",
        "\n",
        "### GPUの確認\n",
        "GPUを使用した計算が可能かどうかを確認します．\n",
        "\n",
        "`GPU availability: True`と表示されれば，GPUを使用した計算を行うことが可能です．\n",
        "Falseとなっている場合は，上部のメニューバーの「ランタイム」→「ランタイムのタイプを変更」からハードウェアアクセラレータをGPUにしてください．"
      ]
    },
    {
      "cell_type": "code",
      "execution_count": null,
      "metadata": {
        "id": "Tgdqg3P_cBRY"
      },
      "outputs": [],
      "source": [
        "import os\n",
        "import zipfile\n",
        "import urllib.request\n",
        "import numpy as np\n",
        "from PIL import Image\n",
        "%matplotlib inline\n",
        "import matplotlib.pyplot as plt\n",
        "\n",
        "import torch\n",
        "import torch.nn as nn\n",
        "import torch.optim as optim\n",
        "from torch.utils.data import DataLoader, Dataset\n",
        "from torchvision import datasets, transforms\n",
        "\n",
        "# GPUの確認\n",
        "use_cuda = torch.cuda.is_available()\n",
        "print('Use CUDA:', use_cuda)"
      ]
    },
    {
      "cell_type": "markdown",
      "metadata": {
        "id": "ylhOosV_cBRb"
      },
      "source": [
        "## ネットワークの構築\n",
        "\n",
        "cGANのネットワーク構造を定義します．\n",
        "\n",
        "\n",
        "基本的なネットワーク構造は，通常のGANと同様に全結合層で設計します．\n",
        "これに加えて，cGANでは条件の入力があるため，Generator及びDiscriminatorの入力層のチャネル数をクラス数分多く定義します．\n",
        "\n",
        "<img src=\"https://dl.dropboxusercontent.com/s/42tfm9viymbqemo/cGAN.png\" width=50%>\n",
        "\n"
      ]
    },
    {
      "cell_type": "code",
      "execution_count": null,
      "metadata": {
        "id": "BZc2vUnFcBRb"
      },
      "outputs": [],
      "source": [
        "class Generator(nn.Module):\n",
        "    def __init__(self, latent_dim=100, n_cls=10):\n",
        "        super(Generator, self).__init__()\n",
        "        self.model = nn.Sequential()\n",
        "\n",
        "        self.model.add_module('fc1', nn.Linear(latent_dim + n_cls, 128))\n",
        "        self.model.add_module('act1', nn.ReLU(inplace=True))\n",
        "        self.model.add_module('fc2', nn.Linear(128, 32 * 32))\n",
        "        self.model.add_module('act2', nn.ReLU(inplace=True))\n",
        "        self.weight_init()\n",
        "\n",
        "    def weight_init(self):\n",
        "        for m in self.model:\n",
        "            if isinstance(m, nn.ConvTranspose2d) or isinstance(m, nn.Conv2d):\n",
        "                m.weight.data.normal_(0.0, 0.02)\n",
        "                m.bias.data.zero_()\n",
        "\n",
        "    def forward(self, z):\n",
        "        return self.model(z)\n",
        "    \n",
        "class Discriminator(nn.Module):\n",
        "    def __init__(self, n_input=32*32, n_cls=10, img_size=32):\n",
        "        super(Discriminator, self).__init__()\n",
        "        self.model = nn.Sequential()\n",
        "        \n",
        "        self.model.add_module('fc1', nn.Linear(n_input+n_cls, 128))\n",
        "        self.model.add_module('act1', nn.ReLU(inplace=True))        \n",
        "        self.model.add_module('fc2', nn.Linear(128, 1))\n",
        "        self.weight_init()\n",
        "  \n",
        "    def weight_init(self):\n",
        "        for m in self.model:\n",
        "            if isinstance(m, nn.ConvTranspose2d) or isinstance(m, nn.Conv2d):\n",
        "                m.weight.data.normal_(0.0, 0.02)\n",
        "                m.bias.data.zero_()\n",
        "\n",
        "    def forward(self, x):\n",
        "        return self.model(x).view(-1)"
      ]
    },
    {
      "cell_type": "markdown",
      "metadata": {
        "id": "E-Lp4ruhcBRe"
      },
      "source": [
        "## データセットと最適化関数\n",
        "データセットにはMNISTを使用します．\n",
        "最適化関数はAdam optimizer使用し，学習率$2\\times 10^4$，betaの値を$0.5, 0.999$として学習します．"
      ]
    },
    {
      "cell_type": "code",
      "execution_count": null,
      "metadata": {
        "id": "OdRDwhBkcBRe"
      },
      "outputs": [],
      "source": [
        "transform_training = transforms.Compose([\n",
        "        transforms.Resize((32, 32)),\n",
        "        transforms.ToTensor()])\n",
        "mnist_data = datasets.MNIST(root='./data', train=True, transform=transform_training, download=True)\n",
        "training_data = DataLoader(mnist_data, batch_size=100, shuffle=True)\n",
        "\n",
        "\n",
        "latent_dim = 100\n",
        "cls_num = 10\n",
        "G = Generator(latent_dim=latent_dim, n_cls=cls_num)\n",
        "D = Discriminator(n_input=32*32, n_cls=cls_num)\n",
        "if use_cuda:\n",
        "    G = G.cuda()\n",
        "    D = D.cuda()\n",
        "\n",
        "opt_g = optim.Adam(G.parameters(), lr=0.0002, betas=(0.5, 0.999))\n",
        "opt_d = optim.Adam(D.parameters(), lr=0.0002, betas=(0.5, 0.999))"
      ]
    },
    {
      "cell_type": "markdown",
      "metadata": {
        "id": "KGQw9OlBcBRg"
      },
      "source": [
        "## GANの学習\n",
        "\n",
        "cGANの学習をします．\n",
        "\n",
        "cGANでは以下の誤差関数で学習を行います．\n",
        "\n",
        "$$\\min _{G} \\max _{D} V(D, G)=\\mathbb{E}_{x \\sim p_{\\text {data }}({x})}[\\log D(x \\mid y)]+\\mathbb{E}_{{z} \\sim p_{z}({z})}[\\log (1-D(G({z} \\mid {y})))]$$\n",
        "\n",
        "ここで，$x$は実画像，$y$は条件を示しています．$G(z|y)$は条件$y$を与えたときに生成した画像です．\n",
        "\n",
        "このように，条件を与えて生成した画像を判定することで，意図した画像を生成することを可能としています．\n"
      ]
    },
    {
      "cell_type": "code",
      "execution_count": null,
      "metadata": {
        "id": "botB5C8lcBRg"
      },
      "outputs": [],
      "source": [
        "n_epoch = 20\n",
        "n_critic = 1\n",
        "criterion = nn.BCEWithLogitsLoss()\n",
        "if use_cuda:\n",
        "    criterion = criterion.cuda()\n",
        "\n",
        "for epoch in range(1, n_epoch+1):\n",
        "    Tensor = torch.cuda.FloatTensor\n",
        "    for idx, (real_x, y) in enumerate(training_data):\n",
        "        if use_cuda:\n",
        "            real_x = real_x.cuda()\n",
        "            \n",
        "        batch = real_x.size(0)\n",
        "        real_x = real_x.view(batch, -1)\n",
        "        onehot = torch.eye(cls_num)[y]\n",
        "        if use_cuda:\n",
        "            onehot = onehot.cuda()\n",
        "        onehot_expand = onehot.expand(batch, onehot.size(1))\n",
        "        flag_real = Tensor(batch).fill_(1.0)\n",
        "        flag_fake = Tensor(batch).fill_(0.0)\n",
        "        \n",
        "        for _ in range(n_critic):\n",
        "            D.zero_grad()\n",
        "            z = torch.randn(batch, latent_dim+cls_num)\n",
        "            if use_cuda:\n",
        "                z = z.cuda()\n",
        "            z[:, :10] = onehot\n",
        "            fake_x = G(z)\n",
        "            _real_x = torch.cat((real_x, onehot_expand), dim=1)\n",
        "            _fake_x = torch.cat((fake_x, onehot_expand), dim=1)\n",
        "            out_real = D(_real_x)\n",
        "            out_fake = D(_fake_x.detach())\n",
        "            loss_real = criterion(out_real, flag_real)\n",
        "            loss_fake = criterion(out_fake, flag_fake)\n",
        "            dis_loss = loss_real + loss_fake\n",
        "            dis_loss.backward()\n",
        "            opt_d.step()\n",
        "            \n",
        "        G.zero_grad()\n",
        "        z = torch.randn(batch, latent_dim+cls_num)\n",
        "        if use_cuda:\n",
        "            z = z.cuda()\n",
        "        z[:, :10] = onehot\n",
        "        fake_x = G(z)\n",
        "        fake_x = torch.cat((fake_x, onehot_expand), dim=1)\n",
        "        out_gen = D(fake_x)\n",
        "        gen_loss = criterion(out_gen, flag_real)\n",
        "        gen_loss.backward()\n",
        "        opt_g.step()\n",
        "        \n",
        "        if idx % 100 == 0:\n",
        "            print('Training epoch: {} [{}/{} ({:.0f}%)] | D loss: {:.6f} | G loss: {:.6f} |'\\\n",
        "                  .format(epoch, idx * len(real_x), len(training_data.dataset),\n",
        "                  100. * idx / len(training_data), dis_loss.item(), gen_loss.item()))"
      ]
    },
    {
      "cell_type": "markdown",
      "metadata": {
        "id": "ExfsKeWTcBRl"
      },
      "source": [
        "## 生成画像の確認\n",
        "学習済みのGeneratorを用いてどのような画像が生成されるのか，狙った画像を生成することができるのかを確認しましょう．"
      ]
    },
    {
      "cell_type": "code",
      "execution_count": null,
      "metadata": {
        "id": "ejWBDD8jcBRl"
      },
      "outputs": [],
      "source": [
        "c = np.arange(10, dtype=np.int32)\n",
        "onehot = torch.eye(10)[c].cuda()[:,:]\n",
        "z = torch.randn(len(c), 100+10)\n",
        "if use_cuda:\n",
        "    z = z.cuda()\n",
        "z[:, :10] = onehot\n",
        "\n",
        "test_img = G(z)\n",
        "\n",
        "if use_cuda:\n",
        "    test_img = test_img.cpu()\n",
        "_test_img = (test_img * 256.).clamp(min=0., max=255.).data.view(len(c), 32, 32).numpy()\n",
        "\n",
        "fig = plt.figure(figsize=(10, 3))\n",
        "for i, im in enumerate(_test_img):\n",
        "    ax = fig.add_subplot(3, 10, i+1, xticks=[], yticks=[])\n",
        "    ax.imshow(im, 'gray')"
      ]
    },
    {
      "cell_type": "markdown",
      "metadata": {
        "id": "245o9OnfeXmp"
      },
      "source": [
        "# 課題\n",
        "\n",
        "1. 条件を固定して線形補間したとき，どのような変化が現れるか確認してください．生成画像AからBへの線形補間は，[0, 1]で線形増加する値$\\alpha$を用いて以下の式で表せます．\n",
        "$$\n",
        "\\hat{z} = (1-\\alpha)\\cdot z_{A} + \\alpha\\cdot z_{B}\\\\\n",
        "I_{A\\rightarrow B} = G(\\hat{z})\n",
        "$$"
      ]
    },
    {
      "cell_type": "markdown",
      "metadata": {
        "id": "YUprNLHcqDEX"
      },
      "source": [
        "# 参考文献\n",
        "[1] Mehdi Mirza and Simon Osindero, Conditional Generative Adversarial Nets, arXiv, 2014.\\\n",
        "[2] Alec Radford, Luke Metz and Soumith Chintala, Unsupervised Representation Learning with Deep Convolutional Generative Adversarial Networks, ICLR, 2016."
      ]
    }
  ],
  "metadata": {
    "accelerator": "GPU",
    "colab": {
      "collapsed_sections": [],
      "name": "04_conditional_DC-GAN.ipynb",
      "provenance": [],
      "include_colab_link": true
    },
    "kernelspec": {
      "display_name": "Python 3",
      "language": "python",
      "name": "python3"
    },
    "language_info": {
      "codemirror_mode": {
        "name": "ipython",
        "version": 3
      },
      "file_extension": ".py",
      "mimetype": "text/x-python",
      "name": "python",
      "nbconvert_exporter": "python",
      "pygments_lexer": "ipython3",
      "version": "3.7.9"
    }
  },
  "nbformat": 4,
  "nbformat_minor": 0
}