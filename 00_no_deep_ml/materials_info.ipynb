{
  "nbformat": 4,
  "nbformat_minor": 0,
  "metadata": {
    "colab": {
      "name": "MaterialsInfo.ipynb",
      "provenance": [],
      "toc_visible": true,
      "collapsed_sections": [
        "Dspj8MABHjhD"
      ],
      "include_colab_link": true
    },
    "kernelspec": {
      "name": "python3",
      "display_name": "Python 3"
    },
    "language_info": {
      "name": "python"
    }
  },
  "cells": [
    {
      "cell_type": "markdown",
      "metadata": {
        "id": "view-in-github",
        "colab_type": "text"
      },
      "source": [
        "<a href=\"https://colab.research.google.com/github/machine-perception-robotics-group/MPRGDeepLearningLectureNotebook/blob/master/00_no_deep_ml/materials_info.ipynb\" target=\"_parent\"><img src=\"https://colab.research.google.com/assets/colab-badge.svg\" alt=\"Open In Colab\"/></a>"
      ]
    },
    {
      "cell_type": "markdown",
      "metadata": {
        "id": "9MAI7stlyXER"
      },
      "source": [
        "# データサイエンス演習\n",
        "\n",
        "データを分析して，機械学習を用いて予測する一連の流れを行います．\n",
        "ここでは，Boston Housing データセットを用いて，住宅価格を予測します．"
      ]
    },
    {
      "cell_type": "markdown",
      "metadata": {
        "id": "lORkpTBet5eY"
      },
      "source": [
        "###Boston Housing dataset\n",
        "\n",
        "Boston Housingは，13属性（説明変数）＋1属性（目的変数）の14属性で構成されています．\n",
        "各属性は以下のようになっています．\n",
        "\n",
        "*  CRIM： 町別の「犯罪率」\n",
        "*  ZN： 25,000平方フィートを超える区画に分類される住宅地の割合＝「広い家の割合」\n",
        "*  INDUS： 町別の「非小売業の割合」\n",
        "*  CHAS： チャールズ川に接している場合は1、そうでない場合は0\n",
        "*  NOX： 「NOx濃度（0.1ppm単位）」＝一酸化窒素濃度（parts per 10 million単位）\n",
        "*  RM： 1戸当たりの「平均部屋数」\n",
        "*  AGE： 1940年より前に建てられた持ち家の割合＝「古い家の割合」\n",
        "*  DIS： 5つあるボストン雇用センターまでの加重距離＝「主要施設への距離」\n",
        "*  RAD： 「主要高速道路へのアクセス性」の指数\n",
        "*  TAX： 10,000ドル当たりの「固定資産税率」\n",
        "*  PTRATIO： 町別の「生徒と先生の比率」\n",
        "*  B： 「1000(Bk - 0.63)」の二乗値。Bk＝「町ごとの黒人の割合」を指す\n",
        "*  LSTAT： 「低所得者人口の割合」\n",
        "*  MEDV：「住宅価格」（1000ドル単位）の中央値"
      ]
    },
    {
      "cell_type": "markdown",
      "metadata": {
        "id": "4R19VwwqzKJz"
      },
      "source": [
        "Boston Housing datasetを読み込みます．このデータセットはScikit learnのチュートリアルでも利用されているので，データのダウンロードを行う関数load_boston()も用意されています．"
      ]
    },
    {
      "cell_type": "code",
      "metadata": {
        "id": "IWcmvxd_tsNk"
      },
      "source": [
        "#ボストン住宅価格データセットの読み込み\n",
        "from sklearn.datasets import load_boston\n",
        "boston = load_boston()\n",
        "#説明変数\n",
        "X_array = boston.data\n",
        "#目的変数\n",
        "y_array = boston.target"
      ],
      "execution_count": null,
      "outputs": []
    },
    {
      "cell_type": "markdown",
      "metadata": {
        "id": "lv0J8K7ry5BL"
      },
      "source": [
        "データを分析するために，データをpandasモジュールのデータフレームに変換します．\n",
        "そして，データフレームを出力して，データの中身を確認します．\n",
        "データ数は506個，14属性(説明変数+目的変数)となっています．"
      ]
    },
    {
      "cell_type": "code",
      "metadata": {
        "id": "8LZoSg86u134"
      },
      "source": [
        "import pandas as pd\n",
        "import numpy as np\n",
        "from pandas import DataFrame\n",
        "\n",
        "df = DataFrame(X_array, columns = boston.feature_names).assign(MEDV=np.array(y_array))\n",
        "\n",
        "# ヘッダ出力\n",
        "print(df.head)"
      ],
      "execution_count": null,
      "outputs": []
    },
    {
      "cell_type": "markdown",
      "metadata": {
        "id": "whWMQL0M0_Hy"
      },
      "source": [
        "CRIM(犯罪率)とMEDV(住宅価格)の関係を可視化します．"
      ]
    },
    {
      "cell_type": "code",
      "metadata": {
        "id": "cSzeBx3G0Cgb"
      },
      "source": [
        "df.plot.scatter(x='CRIM', y='MEDV',xlim=[0,100], ylim=[0,80])"
      ],
      "execution_count": null,
      "outputs": []
    },
    {
      "cell_type": "markdown",
      "metadata": {
        "id": "Scs05mhR2XZn"
      },
      "source": [
        "これらの結果からは，関係があるかどうかわからないので，線形回帰してみます．\n",
        "ここでは，Seabornというモジュールを利用します．\n",
        "また，相関係数も確認します．"
      ]
    },
    {
      "cell_type": "code",
      "metadata": {
        "id": "bRuJ3KUq2j83"
      },
      "source": [
        "import seaborn as sns"
      ],
      "execution_count": null,
      "outputs": []
    },
    {
      "cell_type": "code",
      "metadata": {
        "id": "CvBwG6GEvQSb"
      },
      "source": [
        "#CRIM(犯罪率)，MEDV(住宅価格)で可視化\n",
        "sns.regplot('CRIM','MEDV',data = df)\n",
        "df[['CRIM','MEDV']].corr()"
      ],
      "execution_count": null,
      "outputs": []
    },
    {
      "cell_type": "markdown",
      "metadata": {
        "id": "hS-Ulckq1V50"
      },
      "source": [
        "次に，ZN(宅地比率)とMEDV(住宅価格)の関係を可視化します．"
      ]
    },
    {
      "cell_type": "code",
      "metadata": {
        "id": "em7miQpZ3chQ"
      },
      "source": [
        "#ZN(宅地比率)，MEDV(住宅価格)で可視化\n",
        "sns.regplot('ZN','MEDV',data = df)\n",
        "df[['ZN','MEDV']].corr()"
      ],
      "execution_count": null,
      "outputs": []
    },
    {
      "cell_type": "markdown",
      "metadata": {
        "id": "V0vPk_ix2HFe"
      },
      "source": [
        "INDUS(非小売業エーカーの割合)とMEDV(住宅価格)の関係も可視化します．"
      ]
    },
    {
      "cell_type": "code",
      "metadata": {
        "id": "meRn2qyV3eIz"
      },
      "source": [
        "#INDUS(非小売業エーカーの割合)，MEDV(住宅価格)で可視化\n",
        "sns.regplot('INDUS','MEDV',data = df)\n",
        "df[['INDUS','MEDV']].corr()"
      ],
      "execution_count": null,
      "outputs": []
    },
    {
      "cell_type": "code",
      "metadata": {
        "id": "tokyH2okvTbG"
      },
      "source": [
        "#CHAS(チャーリーズ川ダミー変数)、MEDV(住宅価格)で可視化\n",
        "sns.regplot('CHAS','MEDV',data = df)\n",
        "df[['CHAS','MEDV']].corr()"
      ],
      "execution_count": null,
      "outputs": []
    },
    {
      "cell_type": "code",
      "metadata": {
        "id": "rsf1QIBGvWJm"
      },
      "source": [
        "#RM(1住戸あたりの平均部屋数)、MEDV(住宅価格)で可視化\n",
        "sns.regplot('RM','MEDV',data = df)\n",
        "df[['RM','MEDV']].corr()"
      ],
      "execution_count": null,
      "outputs": []
    },
    {
      "cell_type": "markdown",
      "metadata": {
        "id": "5GAYbWll3kRQ"
      },
      "source": [
        "###線形回帰による住宅価格の予測\n",
        "\n",
        "線形回帰により，住宅価格の予測を行います．"
      ]
    },
    {
      "cell_type": "code",
      "metadata": {
        "id": "Jv1Qk9KxvZqL"
      },
      "source": [
        "from sklearn.model_selection import train_test_split\n",
        "from sklearn import linear_model\n",
        "\n",
        "# 訓練データとテストデータに8:2で分割\n",
        "X_train, X_test, y_train, y_test = train_test_split(X_array, y_array, test_size=0.2, random_state=0)\n",
        "\n",
        "# 線形回帰で学習\n",
        "model = linear_model.LinearRegression()\n",
        "model.fit(X_train, y_train)"
      ],
      "execution_count": null,
      "outputs": []
    },
    {
      "cell_type": "markdown",
      "metadata": {
        "id": "UQOZSwhE5BKO"
      },
      "source": [
        "各説明変数に対する係数を確認します．"
      ]
    },
    {
      "cell_type": "code",
      "metadata": {
        "id": "68Nj3Sv45B-w"
      },
      "source": [
        "np.set_printoptions(suppress=True, precision=3)\n",
        "print(model.coef_)\n",
        "print(model.intercept_)"
      ],
      "execution_count": null,
      "outputs": []
    },
    {
      "cell_type": "markdown",
      "metadata": {
        "id": "-XWEoxmN5iwi"
      },
      "source": [
        "住宅価格のように数値を予測する回帰モデルの性能評価には，\n",
        "* 残差プロット：残差（目的変数の真値と予測値の差分）\n",
        "* 平均二乗誤差：残差平方和をデータ数で正規化した値\n",
        "* 決定係数：相関係数の二乗\n",
        "\n",
        "を利用します．\n",
        "\n",
        "残差プロットは，目的変数の真値と予測値の差分の分布を可視化したものです．\n",
        "回帰モデルが目的変数を正しく予測できた場合の残差は0になります．\n"
      ]
    },
    {
      "cell_type": "code",
      "metadata": {
        "id": "id0EU81P6JFA"
      },
      "source": [
        "import matplotlib.pyplot as plt\n",
        "%matplotlib inline\n",
        "\n",
        "Y_pred = model.predict(X_test) # 検証データを用いて目的変数を予測\n",
        "\n",
        "plt.scatter(Y_pred, Y_pred - y_test, color = 'blue')      # 残差をプロット \n",
        "plt.hlines(y = 0, xmin = -10, xmax = 50, color = 'black') # x軸に沿った直線をプロット\n",
        "plt.title('Residual Plot')                                # 図のタイトル\n",
        "plt.xlabel('Predicted Values')                            # x軸のラベル\n",
        "plt.ylabel('Residuals')                                   # y軸のラベル\n",
        "plt.grid()                                                # グリッド線を表示\n",
        "\n",
        "plt.show()                                               # 図の表示"
      ],
      "execution_count": null,
      "outputs": []
    },
    {
      "cell_type": "markdown",
      "metadata": {
        "id": "zexyuYhH6hsF"
      },
      "source": [
        "平均二乗誤差は，残差の平方和をデータ数で正規化したものです．\n",
        "回帰モデルの性能を数値化することができます．\n",
        "誤差が小さいほど回帰モデルの性能は良いです．\n",
        "平均二乗誤差は，metricsのmean_squared_errorを利用することで算出できます．"
      ]
    },
    {
      "cell_type": "code",
      "metadata": {
        "id": "2A8_ipKX6hBZ"
      },
      "source": [
        "from sklearn.metrics import mean_squared_error\n",
        "\n",
        "Y_train_pred = model.predict(X_train) # 学習データに対する目的変数を予測\n",
        "Y_pred = model.predict(X_test) # 学習データに対する目的変数を予測\n",
        "print('MSE train data: ', mean_squared_error(y_train, Y_train_pred)) # 学習データを用いたときの平均二乗誤差を出力\n",
        "print('MSE test data: ', mean_squared_error(y_test, Y_pred))         # 検証データを用いたときの平均二乗誤差を出力"
      ],
      "execution_count": null,
      "outputs": []
    },
    {
      "cell_type": "markdown",
      "metadata": {
        "id": "7OJvae1C68of"
      },
      "source": [
        "決定係数は，回帰モデルの予測誤差を反映した指標であり，値が大きいほど回帰モデルがデータにフィットしているといえます．\n",
        "決定係数は、metricsのr2_scoreを利用することで算出できます．\n",
        "また、LinearRegressionモデルのscoreメソッドでも算出できます．"
      ]
    },
    {
      "cell_type": "code",
      "metadata": {
        "id": "UJyPldMW7HnA"
      },
      "source": [
        "from sklearn.metrics import r2_score\n",
        "\n",
        "print('r^2 train data: ', r2_score(y_train, Y_train_pred))\n",
        "print('r^2 test data: ', r2_score(y_test, Y_pred))"
      ],
      "execution_count": null,
      "outputs": []
    },
    {
      "cell_type": "code",
      "metadata": {
        "id": "0aXUJZHq5Irt"
      },
      "source": [
        "# 訓練データを用いた評価\n",
        "print('r^2 train data: ', model.score(X_train, y_train))\n",
        "# テストデータを用いた評価\n",
        "print('r^2 test data: ', model.score(X_test, y_test))"
      ],
      "execution_count": null,
      "outputs": []
    },
    {
      "cell_type": "markdown",
      "metadata": {
        "id": "OBBGz1eD8gtf"
      },
      "source": [
        "学習データと検証データに対する決定係数を比較すると，検証データを用いたときの決定係数の方が小さいです．これは，学習した回帰モデルが過学習している可能性があると言えます．"
      ]
    },
    {
      "cell_type": "markdown",
      "metadata": {
        "id": "XNzoi-xp9L0G"
      },
      "source": [
        "###ランダムフォレスト回帰による住宅価格の予測\n",
        "\n",
        "次に，ランダムフォレスト回帰を用いて，回帰モデル学習・評価します．\n",
        "ランダムフォレスト回帰にはensembleのRandomForestRegressorを用います．\n",
        "決定木の数は10とします．\n",
        "学習データ，検証データに対する平均二乗誤差と決定係数を確認します．"
      ]
    },
    {
      "cell_type": "code",
      "metadata": {
        "id": "uLKRYuXkvjWw"
      },
      "source": [
        "from sklearn.model_selection import train_test_split\n",
        "from sklearn import ensemble\n",
        "from sklearn.metrics import mean_squared_error\n",
        "from sklearn.metrics import r2_score\n",
        "\n",
        "# 訓練データとテストデータに8:2で分割\n",
        "X_train, X_test, y_train, y_test = train_test_split(X_array, y_array, test_size=0.2, random_state=0)\n",
        "\n",
        "\n",
        "#sklearnのランダムフォレスト回帰\n",
        "rfr = ensemble.RandomForestRegressor(n_estimators=10)\n",
        "rfr.fit(X_train, y_train)\n",
        "\n",
        "Y_train_pred = rfr.predict(X_train) # 学習データに対する目的変数を予測\n",
        "Y_pred = rfr.predict(X_test) # 学習データに対する目的変数を予測\n",
        "print('MSE train data: ', mean_squared_error(y_train, Y_train_pred)) # 学習データを用いたときの平均二乗誤差を出力\n",
        "print('MSE test data: ', mean_squared_error(y_test, Y_pred))         # 検証データを用いたときの平均二乗誤差を出力\n",
        "\n",
        "\n",
        "print('r^2 train data: ', r2_score(y_train, Y_train_pred))\n",
        "print('r^2 test data: ', r2_score(y_test, Y_pred))"
      ],
      "execution_count": null,
      "outputs": []
    },
    {
      "cell_type": "markdown",
      "metadata": {
        "id": "XAecAeY69sRv"
      },
      "source": [
        "###勾配ブースティングによる住宅価格の予測\n",
        "\n",
        "勾配ブースティングを用いて，同様に回帰モデルを学習・評価します．\n",
        "勾配ブースティングで学習する弱識別器の数は150とします．"
      ]
    },
    {
      "cell_type": "code",
      "metadata": {
        "id": "aX-2bQj9wB5B"
      },
      "source": [
        "from sklearn.model_selection import train_test_split\n",
        "from sklearn import ensemble\n",
        "from sklearn.metrics import mean_squared_error\n",
        "from sklearn.metrics import r2_score\n",
        "\n",
        "# 訓練データとテストデータに8:2で分割\n",
        "X_train, X_test, y_train, y_test = train_test_split(X_array, y_array, test_size=0.2, random_state=0)\n",
        "\n",
        "#sklearnの勾配ブースティング\n",
        "gbr = ensemble.GradientBoostingRegressor(n_estimators = 150, max_depth=3)\n",
        "gbr.fit(X_train, y_train)\n",
        "\n",
        "Y_train_pred = gbr.predict(X_train) # 学習データに対する目的変数を予測\n",
        "Y_pred = gbr.predict(X_test) # 学習データに対する目的変数を予測\n",
        "print('MSE train data: ', mean_squared_error(y_train, Y_train_pred)) # 学習データを用いたときの平均二乗誤差を出力\n",
        "print('MSE test data: ', mean_squared_error(y_test, Y_pred))         # 検証データを用いたときの平均二乗誤差を出力\n",
        "\n",
        "\n",
        "print('r^2 train data: ', r2_score(y_train, Y_train_pred))\n",
        "print('r^2 test data: ', r2_score(y_test, Y_pred))"
      ],
      "execution_count": null,
      "outputs": []
    },
    {
      "cell_type": "markdown",
      "metadata": {
        "id": "FWh3lEAY_cck"
      },
      "source": [
        "###交差検証法\n",
        "\n",
        "学習データと検証データを分けて回帰モデルを学習・評価しました．\n",
        "学習データと検証データを入れ替えて，各回帰モデルの交差検証誤差を比較します．\n",
        "ここでは，平均二乗誤差を比較します．"
      ]
    },
    {
      "cell_type": "code",
      "metadata": {
        "id": "J9EQ0usQ_bwy"
      },
      "source": [
        "from numpy import mean\n",
        "from sklearn.model_selection import cross_val_score\n",
        "from sklearn.model_selection import ShuffleSplit\n",
        "from sklearn import linear_model, ensemble\n",
        "\n",
        "#交差検証\n",
        "cv = ShuffleSplit(n_splits=5, test_size=0.2, random_state=0)\n",
        "\n",
        "# 線形回帰で学習\n",
        "model = linear_model.LinearRegression()\n",
        "linear_preds = cross_val_score(model, X_array, y_array, cv=cv, scoring='neg_mean_squared_error')\n",
        "print(\"Linear Regression  : \", round(mean(abs(linear_preds)), 3) )\n",
        "\n",
        "\n",
        "#ランダムフォレスト回帰\n",
        "rfr = ensemble.RandomForestRegressor(n_estimators=10)\n",
        "rfr_preds = cross_val_score(rfr, X_array, y_array, cv=cv, scoring= 'neg_mean_squared_error')\n",
        "print(\"Random Forest : \", round(mean(abs(rfr_preds)), 3) )\n",
        "\n",
        "#勾配ブースティング\n",
        "gbr = ensemble.GradientBoostingRegressor(n_estimators = 150, max_depth=3)\n",
        "gbr_preds = cross_val_score(gbr, X_array, y_array, cv=cv, scoring= 'neg_mean_squared_error')\n",
        "print(\"Gradient Boosting : \", round(mean(abs(gbr_preds)), 3) )\n"
      ],
      "execution_count": null,
      "outputs": []
    },
    {
      "cell_type": "markdown",
      "metadata": {
        "id": "Dspj8MABHjhD"
      },
      "source": [
        "###演習\n",
        "\n",
        "\n",
        "1.   各回帰モデルのハイパーパラメータを変えて平均二乗誤差と決定係数を比較しましょう\n",
        "\n"
      ]
    },
    {
      "cell_type": "markdown",
      "metadata": {
        "id": "TjJW7rF7rX6q"
      },
      "source": [
        "#マテリアルズインフォマティクス\n",
        "\n",
        "データサイエンス演習で行ったことを踏まえて，材料データベースを対象として回帰モデルの学習・評価を行います．"
      ]
    },
    {
      "cell_type": "markdown",
      "metadata": {
        "id": "RL3ENvQR-zkR"
      },
      "source": [
        "\n",
        "まず，Materials Projectのデータ取得や、物性計算に便利なモジュールをインストールします．"
      ]
    },
    {
      "cell_type": "code",
      "metadata": {
        "id": "mI6tHqp_oYUn"
      },
      "source": [
        "!pip install -q pymatgen"
      ],
      "execution_count": null,
      "outputs": []
    },
    {
      "cell_type": "markdown",
      "metadata": {
        "id": "8DMAkhNesKtw"
      },
      "source": [
        "ここでは，説明変数として，\n",
        "\n",
        "\n",
        "*   化学式\n",
        "*   物質特性\n",
        "\n",
        "の２つを比較します．\n",
        "\n"
      ]
    },
    {
      "cell_type": "markdown",
      "metadata": {
        "id": "2bJ71CK_sdaQ"
      },
      "source": [
        "まず，必要なモジュールをインポートします．"
      ]
    },
    {
      "cell_type": "code",
      "metadata": {
        "id": "C2W5m7vmoQ2C"
      },
      "source": [
        "from pymatgen.core.composition import Composition\n",
        "from numpy import zeros, mean\n"
      ],
      "execution_count": null,
      "outputs": []
    },
    {
      "cell_type": "markdown",
      "metadata": {
        "id": "vUw4hZxwrkG4"
      },
      "source": [
        "Density Functional Theoryという第一原理計算の手法で計算した物質のバンドギャップデータを取得します．\n",
        "バンドギャップは，電子が移動する時の障壁の大きさを表したものです．\n",
        "例えば，石はバンドギャップが広いので電気が通りません．\n",
        "金属は，バンドギャップが狭く，電気が通ります．\n",
        "半導体は，その中間で電気を通したり通さなかったりします．"
      ]
    },
    {
      "cell_type": "code",
      "metadata": {
        "id": "gPKXwZK0o0v-"
      },
      "source": [
        "!wget https://citrineinformatics.box.com/shared/static/0ch2f96jxbqtntia49ipk7g8vx64tuap.csv\n",
        "!mv 0ch2f96jxbqtntia49ipk7g8vx64tuap.csv bandgapDFT.csv\n",
        "\n",
        "trainFile = open(\"bandgapDFT.csv\",\"r\").readlines()"
      ],
      "execution_count": null,
      "outputs": []
    },
    {
      "cell_type": "markdown",
      "metadata": {
        "id": "r-XD5aDksreo"
      },
      "source": [
        "bandgapDFT.csvは，一行目が化学式、二行目がバンドギャップ(eV)となっています．\n",
        "化学式を機械学習で扱うために，固定長ベクトルに変換する必要があります．\n",
        "そのための関数としてnaiveVectorize関数を用意します．\n",
        "naiveVectorize関数の引数に与えるcompositionは，pymatgenモジュールのCompositionオブジェクトです．\n",
        "このオブジェクトは，化学式から原子や構成比などを取得できます．"
      ]
    },
    {
      "cell_type": "code",
      "metadata": {
        "id": "K1AnsfT3ocT0"
      },
      "source": [
        "#input:pymatgenのCompositionオブジェクト\n",
        "#output:組成ベクトル\n",
        "def naiveVectorize(composition):\n",
        "       vector = zeros((MAX_Z))\n",
        "       for element in composition:\n",
        "               #elementは原子。fractionはその原子が組成に含まれる割合\n",
        "               fraction = composition.get_atomic_fraction(element)\n",
        "               vector[element.Z - 1] = fraction\n",
        "       return(vector)"
      ],
      "execution_count": null,
      "outputs": []
    },
    {
      "cell_type": "markdown",
      "metadata": {
        "id": "rSbn9QbwtNgy"
      },
      "source": [
        "csvファイルからから化学式とバンドギャップを読み込み，naiveVectorize関数で化学式から説明変数のベクトルを用意します．"
      ]
    },
    {
      "cell_type": "code",
      "metadata": {
        "id": "kSk8zG9Dogmu"
      },
      "source": [
        "materials = []\n",
        "bandgaps = []\n",
        "naiveFeatures = []\n",
        "\n",
        "MAX_Z = 100 #特徴量ベクトル最大長さ\n",
        "\n",
        "for line in trainFile:\n",
        "       split = str.split(line, ',')\n",
        "       material = Composition(split[0])\n",
        "       materials.append(material) #化学式\n",
        "       naiveFeatures.append(naiveVectorize(material)) #特徴量ベクトル生成\n",
        "       bandgaps.append(float(split[1])) #バンドギャップの読み込み"
      ],
      "execution_count": null,
      "outputs": []
    },
    {
      "cell_type": "markdown",
      "metadata": {
        "id": "aK1MUEdYtffs"
      },
      "source": [
        "バンドギャップの平均値からの誤差を求めてみます．"
      ]
    },
    {
      "cell_type": "code",
      "metadata": {
        "id": "t9Furuo_olFA"
      },
      "source": [
        "baselineError = mean(abs(mean(bandgaps) - bandgaps))\n",
        "print(\"Mean Absolute Error : \" + str(round(baselineError, 3)) + \" eV\")"
      ],
      "execution_count": null,
      "outputs": []
    },
    {
      "cell_type": "markdown",
      "metadata": {
        "id": "Hjnv6ZrOtj21"
      },
      "source": [
        "機械学習によりバンドギャップの予測を行います．\n",
        "ここでは，ランダムフォレスト回帰を用いてバンドギャップを回帰して予測します．"
      ]
    },
    {
      "cell_type": "code",
      "metadata": {
        "id": "TU-zoMJronW6"
      },
      "source": [
        "from sklearn.model_selection import cross_val_score\n",
        "from sklearn.model_selection import ShuffleSplit\n",
        "from sklearn import linear_model, metrics, ensemble\n",
        "\n",
        "#sklearnのランダムフォレスト回帰\n",
        "rfr = ensemble.RandomForestRegressor(n_estimators=10)\n",
        "\n",
        "#交差検証します\n",
        "cv = ShuffleSplit(n_splits=10, test_size=0.1, random_state=0)\n",
        "\n",
        "scores_composition = cross_val_score(rfr, naiveFeatures,\\\n",
        "    bandgaps, cv=cv, scoring='neg_mean_absolute_error')\n",
        "\n",
        "print(\"Mean Absolute Error by Random Forest with composition data: \"\\\n",
        "    + str(round(abs(mean(scores_composition)), 3)) + \" eV\")"
      ],
      "execution_count": null,
      "outputs": []
    },
    {
      "cell_type": "markdown",
      "metadata": {
        "id": "mOR2eT1FtuLp"
      },
      "source": [
        "次に物質の特性を説明変数として利用します．\n",
        "ここでは，原子の組成比，電気陰性度などの4つの値を説明変数として用います．"
      ]
    },
    {
      "cell_type": "code",
      "metadata": {
        "id": "ohxYpWfLoqSn"
      },
      "source": [
        "physicalFeatures = []\n",
        "\n",
        "for material in materials:\n",
        "       theseFeatures = []\n",
        "       fraction = []\n",
        "       atomicNo = []\n",
        "       eneg = []\n",
        "       group = []\n",
        "\n",
        "       for element in material:\n",
        "               fraction.append(material.get_atomic_fraction(element))\n",
        "               atomicNo.append(float(element.Z))\n",
        "               eneg.append(element.X)\n",
        "               group.append(float(element.group))\n",
        "\n",
        "       mustReverse = False\n",
        "       if fraction[1] > fraction[0]:\n",
        "               mustReverse = True\n",
        "\n",
        "       for features in [fraction, atomicNo, eneg, group]:\n",
        "               if mustReverse:\n",
        "                       features.reverse()\n",
        "       theseFeatures.append(fraction[0] / fraction[1])\n",
        "       theseFeatures.append(eneg[0] - eneg[1])\n",
        "       theseFeatures.append(group[0])\n",
        "       theseFeatures.append(group[1])\n",
        "       physicalFeatures.append(theseFeatures)"
      ],
      "execution_count": null,
      "outputs": []
    },
    {
      "cell_type": "markdown",
      "metadata": {
        "id": "3h8-wBfZI_iI"
      },
      "source": [
        "線形回帰モデルで学習します．"
      ]
    },
    {
      "cell_type": "code",
      "metadata": {
        "id": "WXTRNWr2CCNP"
      },
      "source": [
        "from sklearn.linear_model import LinearRegression\n",
        "\n",
        "linear = LinearRegression()\n",
        "scores_physical =cross_val_score(linear, physicalFeatures,\\\n",
        "    bandgaps, cv=cv, scoring='neg_mean_absolute_error')\n",
        "\n",
        "print(\"Mean Absolute Error by Random Forest with physical data: \"\\\n",
        "    + str(round(abs(mean(scores_physical)), 3)) + \" eV\")"
      ],
      "execution_count": null,
      "outputs": []
    },
    {
      "cell_type": "markdown",
      "metadata": {
        "id": "rWlEJ6a1Iz8x"
      },
      "source": [
        "線形回帰モデルにLASSOを追加して学習します．"
      ]
    },
    {
      "cell_type": "code",
      "metadata": {
        "id": "20FOzDV99gUQ"
      },
      "source": [
        "from sklearn.linear_model import Lasso\n",
        "clf = Lasso(alpha=0.1)\n",
        "scores_physical =cross_val_score(clf, physicalFeatures,\\\n",
        "    bandgaps, cv=cv, scoring='neg_mean_absolute_error')\n",
        "\n",
        "print(\"Mean Absolute Error by Random Forest with physical data: \"\\\n",
        "    + str(round(abs(mean(scores_physical)), 3)) + \" eV\")\n"
      ],
      "execution_count": null,
      "outputs": []
    },
    {
      "cell_type": "markdown",
      "metadata": {
        "id": "kdaYcxtJuMkM"
      },
      "source": [
        "次に，ランダムフォレスト回帰で学習します．"
      ]
    },
    {
      "cell_type": "code",
      "metadata": {
        "id": "xoU06bi0osZK"
      },
      "source": [
        "scores_physical =cross_val_score(rfr, physicalFeatures,\\\n",
        "    bandgaps, cv=cv, scoring='neg_mean_absolute_error')\n",
        "\n",
        "print(\"Mean Absolute Error by Random Forest with physical data: \"\\\n",
        "    + str(round(abs(mean(scores_physical)), 3)) + \" eV\")"
      ],
      "execution_count": null,
      "outputs": []
    },
    {
      "cell_type": "markdown",
      "metadata": {
        "id": "k4-7JgN7JI_W"
      },
      "source": [
        "勾配ブースティングで学習します．"
      ]
    },
    {
      "cell_type": "code",
      "metadata": {
        "id": "PqeMJBdJDALa"
      },
      "source": [
        "from sklearn.ensemble import GradientBoostingRegressor\n",
        "gbr = GradientBoostingRegressor(n_estimators = 150, max_depth=3)\n",
        "scores_physical =cross_val_score(gbr, physicalFeatures,\\\n",
        "    bandgaps, cv=cv, scoring='neg_mean_absolute_error')\n",
        "\n",
        "print(\"Mean Absolute Error by Random Forest with physical data: \"\\\n",
        "    + str(round(abs(mean(scores_physical)), 3)) + \" eV\")\n"
      ],
      "execution_count": null,
      "outputs": []
    },
    {
      "cell_type": "markdown",
      "metadata": {
        "id": "7ZDKsGeCzur1"
      },
      "source": [
        "##参考資料\n",
        "https://qiita.com/KentoObata/items/7fd8c7527d586dffc329\n",
        "\n",
        "https://qiita.com/yut-nagase/items/6c2bc025e7eaa7493f89"
      ]
    }
  ]
}