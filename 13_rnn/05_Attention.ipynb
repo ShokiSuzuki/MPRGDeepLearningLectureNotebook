{
  "nbformat": 4,
  "nbformat_minor": 0,
  "metadata": {
    "accelerator": "GPU",
    "colab": {
      "name": "05_Attention.ipynb",
      "provenance": [],
      "collapsed_sections": [],
      "toc_visible": true,
      "authorship_tag": "ABX9TyNkwP/8Wvn71PMgRmU2E23n",
      "include_colab_link": true
    },
    "kernelspec": {
      "display_name": "Python 3",
      "name": "python3"
    }
  },
  "cells": [
    {
      "cell_type": "markdown",
      "metadata": {
        "id": "view-in-github",
        "colab_type": "text"
      },
      "source": [
        "<a href=\"https://colab.research.google.com/github/machine-perception-robotics-group/MPRGDeepLearningLectureNotebook/blob/master/13_rnn/05_Attention.ipynb\" target=\"_parent\"><img src=\"https://colab.research.google.com/assets/colab-badge.svg\" alt=\"Open In Colab\"/></a>"
      ]
    },
    {
      "cell_type": "markdown",
      "metadata": {
        "id": "jzuK1IkM_JLD"
      },
      "source": [
        "# Attention Seq2seq\n",
        "前セクションでは，Seq2seqについて学びました．本セクションでは，計算機がどの数字，演算記号に着目したかをAttention機構を導入することで調査します．\n",
        "\n",
        "## 目的\n",
        "Attention Seq2seqの構造を理解する"
      ]
    },
    {
      "cell_type": "markdown",
      "metadata": {
        "id": "FrHbUcaD_74x"
      },
      "source": [
        "# Attention機構\n",
        "Seq2Seqはエンコーダが長期のパターンを学習する際に直近の情報に強く影響されるため，過去の特徴をうまく捉えることが難しいとされています．そこで，各時刻のエンコーダの出力を保持し，デコーダ側へ情報を伝搬するAttention機構を導入することで，この問題を解決します．Attention機構は保持したエンコーダの出力をデコーダの出力に対して重みづけすることで，どの時刻のエンコーダに着目してデコーダが文字等の情報を生成したかを可視化することもできます．\n",
        "\n",
        "<img src=\"https://github.com/himidev/Lecture/blob/main/13_rnn/05_Attention/Atten_Seq2seq.png?raw=true\" width = 100%>\n"
      ]
    },
    {
      "cell_type": "markdown",
      "source": [
        "## モジュールのインポートとGPUの確認\n",
        "\n",
        "必要なモジュールをインポートします．\n",
        "そして，GPUが使用可能かどうかを確認します．"
      ],
      "metadata": {
        "id": "2vwQ-GgA-I-m"
      }
    },
    {
      "cell_type": "code",
      "source": [
        "import random\n",
        "import numpy as np\n",
        "from time import time\n",
        "\n",
        "import torch\n",
        "import torch.nn as nn\n",
        "import torch.nn.functional as F\n",
        "import torch.optim as optim\n",
        "\n",
        "# GPUの確認\n",
        "use_cuda = torch.cuda.is_available()\n",
        "print('Use CUDA:', use_cuda)"
      ],
      "metadata": {
        "id": "9GclazVy-HPb"
      },
      "execution_count": null,
      "outputs": []
    },
    {
      "cell_type": "markdown",
      "metadata": {
        "id": "yBi4hC_uAJNM"
      },
      "source": [
        "## データセットの作成\n",
        "\n",
        "文字とそれに対応したIDを整理した辞書型オブジェクトを作成します．\n",
        "\n",
        "`word2id`では文字をキーとしてIDをデータにもつ辞書を，一方`id2word`ではIDをキーとして文字列をデータに持つ辞書を作成します．\n",
        "\n",
        "作成した辞書を表示します．\n",
        "`word2id`では，0から9の文字は0~9の数字のキーに対応しており，\n",
        "各種記号は次のようなIDに対応しています．\n",
        "* `<pad>`：10\n",
        "* `+`：11\n",
        "* 文字列の終わり`<eos>`：12\n",
        "\n",
        "\n"
      ]
    },
    {
      "cell_type": "code",
      "source": [
        "word2id = {str(i): i for i in range(10)}\n",
        "word2id.update({\"<pad>\": 10, \"+\": 11, \"<eos>\": 12})\n",
        "id2word = {v: k for k, v in word2id.items()}\n",
        "\n",
        "# 作成した辞書オブジェクトの表示\n",
        "print(word2id)\n",
        "print(id2word)"
      ],
      "metadata": {
        "id": "THGeJF1s-OJl"
      },
      "execution_count": null,
      "outputs": []
    },
    {
      "cell_type": "markdown",
      "source": [
        "### データセットクラスの作成\n",
        "\n",
        "次に，データセットを用意します．\n",
        "\n",
        "データは0から9までの数字と加算記号，開始，終了のフラグです．\n",
        "また，３桁の数字の足し算を行うため，各桁の値を１つずつランダムに生成して連結しています．\n",
        "\n",
        "$$x + y = z$$\n",
        "\n",
        "\n",
        "\n",
        "\n",
        "\n"
      ],
      "metadata": {
        "id": "bSOJeBMQ-P_k"
      }
    },
    {
      "cell_type": "code",
      "metadata": {
        "id": "rOgzz6W1CYU3"
      },
      "source": [
        "class CalcDataset(torch.utils.data.Dataset):\n",
        "\n",
        "    # 計算式の文字列をIDに変換するための関数\n",
        "    def transform(self, string, seq_len=7):\n",
        "        tmp = []\n",
        "        for i, c in enumerate(string):\n",
        "            try:\n",
        "                tmp.append(word2id[c])\n",
        "            except:\n",
        "                tmp += [word2id[\"<pad>\"]] * (seq_len - i)\n",
        "                break\n",
        "        return tmp\n",
        "\n",
        "    def __init__(self, data_num, train=True):\n",
        "        super().__init__()\n",
        "\n",
        "        self.data_num = data_num\n",
        "        self.train = train\n",
        "        self.data = []\n",
        "        self.label = []\n",
        "\n",
        "        for _ in range(data_num):\n",
        "            x = int(\"\".join([random.choice(list(\"0123456789\")) for _ in range(random.randint(1, 3))] ))\n",
        "            y = int(\"\".join([random.choice(list(\"0123456789\")) for _ in range(random.randint(1, 3))] ))\n",
        "            left = (\"{:*<7s}\".format(str(x) + \"+\" + str(y))).replace(\"*\", \"<pad>\")\n",
        "            self.data.append(self.transform(left))\n",
        "\n",
        "            z = x + y\n",
        "            right = (\"{:*<6s}\".format(str(z))).replace(\"*\", \"<pad>\")\n",
        "            right = self.transform(right, seq_len=5)\n",
        "            right = [12] + right\n",
        "            right[right.index(10)] = 12\n",
        "            self.label.append(right)\n",
        "        \n",
        "        self.data = np.asarray(self.data)\n",
        "        self.label = np.asarray(self.label)\n",
        "\n",
        "    def __getitem__(self, item):\n",
        "        d = self.data[item]\n",
        "        l = self.label[item]\n",
        "        return d, l\n",
        "\n",
        "    def __len__(self):\n",
        "        return self.data.shape[0]"
      ],
      "execution_count": 3,
      "outputs": []
    },
    {
      "cell_type": "markdown",
      "source": [
        "### 作成したデータの確認\n",
        "\n",
        "作成した`CalcDataset`のデータを確認します．\n",
        "\n",
        "適当なデータセットとして`tmp_dataset`を作成します．今回はデータの確認を行うだけのため，データ数（`data_num`）は5と小さい数に指定します．\n",
        "\n",
        "そして，作成したデータセット内のデータをひとつづつfor文で読み出して，データを確認します．"
      ],
      "metadata": {
        "id": "269OW7J9-T0I"
      }
    },
    {
      "cell_type": "code",
      "source": [
        "tmp_dataset = CalcDataset(data_num=5)\n",
        "\n",
        "for i in range(len(tmp_dataset)):\n",
        "    print(tmp_dataset[i])"
      ],
      "metadata": {
        "id": "bHnMgOYJ-Uie"
      },
      "execution_count": null,
      "outputs": []
    },
    {
      "cell_type": "markdown",
      "metadata": {
        "id": "NVK7nlTvAO3v"
      },
      "source": [
        "## ネットワークモデル（計算機）の定義\n",
        "基本的な構造は前セクションのエンコーダ・デコーダ構造と同様です．ただし，エンコーダは各時刻の出力値を保持しておきます．デコーダでは，保持したエンコーダの出力値とデコーダの出力値で内積計算します．この内積計算によって，各時刻のエンコーダの出力値に重み付けすることができます．これにより，どの時刻のエンコーダの出力に着目したかをデコーダ側が自動で決定することができます．"
      ]
    },
    {
      "cell_type": "code",
      "metadata": {
        "id": "O3u7W6gmC1gC"
      },
      "source": [
        "import torch\n",
        "import torch.nn as nn\n",
        "import torch.nn.functional as F\n",
        "import torch.optim as optim\n",
        "\n",
        "\n",
        "class Encoder(nn.Module):\n",
        "    def __init__(self, vocab_size, embedding_dim, hidden_dim, batch_size=100):\n",
        "        super(Encoder, self).__init__()\n",
        "        self.hidden_dim = hidden_dim\n",
        "        self.batch_size = batch_size\n",
        "\n",
        "        self.word_embeddings = nn.Embedding(vocab_size, embedding_dim, padding_idx=word2id[\"<pad>\"])\n",
        "        self.gru = nn.GRU(embedding_dim, hidden_dim, batch_first=True)\n",
        "\n",
        "    def forward(self, indices):\n",
        "        embedding = self.word_embeddings(indices)\n",
        "        if embedding.dim() == 2:\n",
        "            embedding = torch.unsqueeze(embedding, 1)\n",
        "        hs, state = self.gru(embedding, torch.zeros(1, self.batch_size, self.hidden_dim, device=device))\n",
        "\n",
        "        return hs, state\n",
        "\n",
        "\n",
        "class Decoder(nn.Module):\n",
        "    def __init__(self, vocab_size, embedding_dim, hidden_dim, batch_size=100):\n",
        "        super(Decoder, self).__init__()\n",
        "        self.hidden_dim = hidden_dim\n",
        "        self.batch_size = batch_size\n",
        "\n",
        "        self.word_embeddings = nn.Embedding(vocab_size, embedding_dim, padding_idx=word2id[\"<pad>\"])\n",
        "        self.gru = nn.GRU(embedding_dim, hidden_dim, batch_first=True)\n",
        "        self.output = nn.Linear(hidden_dim * 2, vocab_size)\n",
        "\n",
        "        self.softmax = nn.Softmax(dim=1)\n",
        "\n",
        "    def forward(self, index, hs, state):\n",
        "        embedding = self.word_embeddings(index)\n",
        "        if embedding.dim() == 2:\n",
        "            embedding = torch.unsqueeze(embedding, 1)\n",
        "        gruout, state = self.gru(embedding, state)\n",
        "\n",
        "        t_output = torch.transpose(gruout, 1, 2)\n",
        "        s = torch.bmm(hs, t_output)\n",
        "        attention_weight = self.softmax(s)\n",
        "\n",
        "        c = torch.zeros(self.batch_size, 1, self.hidden_dim, device=device)\n",
        "\n",
        "        # attention weight\n",
        "        for i in range(attention_weight.size()[2]):\n",
        "          unsq_weight = attention_weight[:,:,i].unsqueeze(2)\n",
        "          weighted_hs = hs * unsq_weight\n",
        "          weight_sum = torch.sum(weighted_hs, axis=1).unsqueeze(1)\n",
        "          c = torch.cat([c, weight_sum], dim=1)\n",
        "        c = c[:,1:,:]\n",
        "        gruout = torch.cat([gruout, c], dim=2)\n",
        "        output = self.output(gruout)\n",
        "        return output, state, attention_weight"
      ],
      "execution_count": 5,
      "outputs": []
    },
    {
      "cell_type": "markdown",
      "source": [
        "## ネットワークモデルの作成\n",
        "\n",
        "上で定義したエンコーダとデコーダを作成します．\n",
        "エンコーダとデコーダは別々のネットワークとして用意し，それぞれの最適化にはAdamを利用します．"
      ],
      "metadata": {
        "id": "hfGkHBLx-d7x"
      }
    },
    {
      "cell_type": "code",
      "source": [
        "embedding_dim = 16\n",
        "hidden_dim = 128\n",
        "vocab_size = len(word2id)\n",
        "device = torch.device(\"cuda\" if torch.cuda.is_available() else \"cpu\")\n",
        "\n",
        "encoder = Encoder(vocab_size, embedding_dim, hidden_dim, batch_size=100).to(device)\n",
        "decoder = Decoder(vocab_size, embedding_dim, hidden_dim, batch_size=100).to(device)\n",
        "criterion = nn.CrossEntropyLoss(ignore_index=word2id[\"<pad>\"])\n",
        "\n",
        "# Initialize opotimizers\n",
        "encoder_optimizer = optim.Adam(encoder.parameters(), lr=0.001)\n",
        "decoder_optimizer = optim.Adam(decoder.parameters(), lr=0.001)"
      ],
      "metadata": {
        "id": "LCTaYcLr-jJH"
      },
      "execution_count": 6,
      "outputs": []
    },
    {
      "cell_type": "markdown",
      "metadata": {
        "id": "mpqiPRtXBvCa"
      },
      "source": [
        "###学習\n",
        "学習を行います．学習データを2万サンプル生成して，データローダに与えます．\n",
        "学習は200エポック行います．エンコーダの入力は数字または開始・終了・加算記号です．\n",
        "デコーダの入力は計算結果です．\n",
        "具体的には，54+37 を行う時，\n",
        "エンコーダには，まず開始記号を最初に入力し，次に，5, 4, +, 3, 7 を入力します．そして，最後に終了記号を入力します．その時の中間層の情報をhidden_stateとしてエンコーダから受け取ります．\n",
        "デコーダは，開始記号と中間情報(hidden_state)を最初に入力します，そして，計算結果の9, 1 を入力し，最後に終了記号を入力します．\n",
        "この時，デコーダは各数字（または記号）の確率をdecoder_outputとして出力します．\n",
        "decoder_outputは，[バッチサイズ, 1, 各クラス確率]の３次元なので，squeezeによって，[バッチサイズ,  各クラス確率] に次元削減します．\n",
        "そして，クロスエントロピー誤差関数によって，ロスを求めます．\n",
        "これを正解の長さ(=5)分繰り返し行い，ロスを累積します．\n",
        "その後，誤差逆伝播，デコーダ，エンコーダの更新を行います．\n"
      ]
    },
    {
      "cell_type": "code",
      "source": [
        "batch_size=100\n",
        "epoch_num = 200\n",
        "\n",
        "train_data = CalcDataset(data_num = 20000)\n",
        "train_loader = torch.utils.data.DataLoader(train_data, batch_size=batch_size, shuffle=True)\n",
        "\n",
        "start = time()\n",
        "for epoch in range(1, epoch_num+1):\n",
        "    for data, label in train_loader:\n",
        "        encoder_optimizer.zero_grad()\n",
        "        decoder_optimizer.zero_grad()\n",
        "\n",
        "        if use_cuda:\n",
        "            data = data.cuda()\n",
        "            label = label.cuda()\n",
        "\n",
        "        hs, encoder_hidden = encoder(data)\n",
        "        source = label[:, :-1]\n",
        "        target = label[:, 1:]\n",
        "        decoder_hidden = encoder_hidden\n",
        "\n",
        "        loss = 0\n",
        "        decoder_output, _, attention_weight = decoder(source, hs, decoder_hidden)\n",
        "        decoder_output = torch.squeeze(decoder_output)\n",
        "        for j in range(decoder_output.size()[1]):\n",
        "            loss += criterion(decoder_output[:, j, :], target[:, j])\n",
        "\n",
        "        loss.backward()\n",
        "        encoder_optimizer.step()\n",
        "        decoder_optimizer.step()\n",
        "\n",
        "    elapsed_time = time() - start\n",
        "    if epoch % 10 == 0:\n",
        "        print(\"epoch: {}, mean loss: {}, elapsed_time: {}\".format(epoch, loss.item(), elapsed_time))\n",
        "        \n",
        "model_name = \"seq2seq_calculator_v{}.pt\".format(epoch)\n",
        "torch.save({\n",
        "    'encoder_model': encoder.state_dict(),\n",
        "    'decoder_model': decoder.state_dict(),\n",
        "}, model_name)"
      ],
      "metadata": {
        "id": "MdvLsHtK-vQ5"
      },
      "execution_count": null,
      "outputs": []
    },
    {
      "cell_type": "markdown",
      "metadata": {
        "id": "bax8En0jB0d0"
      },
      "source": [
        "## 評価\n",
        "\n",
        "次に，学習したモデルを評価をします．\n",
        "\n",
        "テストデータを2000サンプル生成して，データローダに与えます．\n",
        "\n",
        "ここで，学習時はエンコーダとデコーダのバッチサイズを100としていました．\n",
        "テスト時は１つずつ行いたいので，エンコーダとデコーダを新たに生成し，学習したパラメータをロードします．\n",
        "\n",
        "エンコーダ側に計算したい数字（または記号）を入力して中間情報stateを得ます．\n",
        "デコーダ側に，中間情報stateと開始記号<eos>を入力します．\n",
        "デコーダ側の出力は数字または記号(token)と中間情報です．\n",
        "これらを繰り返しデコーダに入力します．<eos>が出力されたら繰り返しは終了です．\n",
        "\n",
        "出力されたtokenを追加したリストrightを計算結果とします．\n",
        "計算する式(left)を作成した後，evalでその計算結果が正しいかどうかを判定します．\n",
        "\n"
      ]
    },
    {
      "cell_type": "code",
      "metadata": {
        "id": "VWZHuSwcC6nj"
      },
      "source": [
        "batch_size = 1\n",
        "test_data = CalcDataset(data_num = 2000)\n",
        "test_loader = torch.utils.data.DataLoader(test_data, batch_size=batch_size, shuffle=False)\n",
        "\n",
        "encoder = Encoder(vocab_size, embedding_dim, hidden_dim, batch_size=1).to(device)\n",
        "decoder = Decoder(vocab_size, embedding_dim, hidden_dim, batch_size=1).to(device)\n",
        "\n",
        "model_name = \"seq2seq_calculator_v{}.pt\".format(epoch)\n",
        "checkpoint = torch.load(model_name)\n",
        "encoder.load_state_dict(checkpoint[\"encoder_model\"])\n",
        "decoder.load_state_dict(checkpoint[\"decoder_model\"])\n",
        "\n",
        "accuracy = 0\n",
        "        \n",
        "# 評価の実行   \n",
        "with torch.no_grad():\n",
        "    for data, label in test_loader:\n",
        "        if use_cuda:\n",
        "            data = data.cuda()\n",
        "\n",
        "        hs, state = encoder(data)\n",
        "\n",
        "        right = []\n",
        "        token = \"<eos>\"\n",
        "        for _ in range(7):\n",
        "            index = word2id[token]\n",
        "            input_tensor = torch.tensor([index], device=device)\n",
        "            output, state, _ = decoder(input_tensor, hs, state)\n",
        "            prob = F.softmax(torch.squeeze(output))\n",
        "            index = torch.argmax(prob.cpu().detach()).item()\n",
        "            token = id2word[index]\n",
        "            if token == \"<eos>\":\n",
        "                break\n",
        "            right.append(token)\n",
        "        right = \"\".join(right)\n",
        "\n",
        "        if \"+\" in right or \"<pad>\" in right:\n",
        "          accuracy += 0\n",
        "          continue\n",
        "        \n",
        "        x = list(data[0].to('cpu').detach().numpy() )\n",
        "        try:\n",
        "            padded_idx_x = x.index(word2id[\"<pad>\"])\n",
        "        except ValueError:\n",
        "            padded_idx_x = len(x)\n",
        "        left = \"\".join(map(lambda c: str(id2word[c]), x[:padded_idx_x]))\n",
        "\n",
        "\n",
        "\n",
        "        flag = [\"F\", \"T\"][eval(left) == int(right)]\n",
        "        print(\"{:>7s} = {:>4s} :{}\".format(left, right, flag))\n",
        "        if flag == \"T\":\n",
        "            accuracy += 1\n",
        "print(\"Accuracy: {:.2f}\".format(accuracy / len(test_loader)))\n",
        "\n"
      ],
      "execution_count": null,
      "outputs": []
    },
    {
      "cell_type": "markdown",
      "metadata": {
        "id": "-IABUmPziCte"
      },
      "source": [
        "# Attentionの可視化\n",
        "Decoder内のAttention weightの可視化をします．Attention weightを見ることで，デコーダがどのエンコーダの入力に着目したかを確認することができます．Attention　weightの可視化にはヒートマップがよく用いられるので，ヒートマップで可視化してみます．ただし，全ての評価サンプルを確認すると時間もかかるので，今回は5サンプルを実行するごとにランダム表示します．ヒートマップは縦軸がエンコーダの入力，横軸がデコーダの出力を表しています．１数字ずつ見たとき、左に並んでいるボックスの色が一番明るいところの文字が最も着目して生成された数値を表しています．プロット毎に数値をランダムにしているので，各自ヒートマップの結果を考察してみてください．"
      ]
    },
    {
      "cell_type": "code",
      "metadata": {
        "id": "et3OwgNlQdsg"
      },
      "source": [
        "import matplotlib.pyplot as plt\n",
        "import seaborn as sns\n",
        "import pandas as pd\n",
        "\n",
        "batch_size = 1\n",
        "test_data = CalcDataset(data_num = 2000)\n",
        "test_loader = torch.utils.data.DataLoader(test_data, batch_size=batch_size, shuffle=True)\n",
        "\n",
        "encoder = Encoder(vocab_size, embedding_dim, hidden_dim, batch_size=1).to(device)\n",
        "decoder = Decoder(vocab_size, embedding_dim, hidden_dim, batch_size=1).to(device)\n",
        "\n",
        "model_name = \"seq2seq_calculator_v{}.pt\".format(epoch)\n",
        "checkpoint = torch.load(model_name)\n",
        "encoder.load_state_dict(checkpoint[\"encoder_model\"])\n",
        "decoder.load_state_dict(checkpoint[\"decoder_model\"])\n",
        "\n",
        "accuracy = 0\n",
        "        \n",
        "# 評価の実行   \n",
        "with torch.no_grad():\n",
        "    for ind, (data, label) in enumerate(test_loader):\n",
        "        if use_cuda:\n",
        "            data = data.cuda()\n",
        "\n",
        "        hs, state = encoder(data)\n",
        "\n",
        "        right = []\n",
        "        Atten = []\n",
        "        token = \"<eos>\"\n",
        "        for _ in range(7):\n",
        "            index = word2id[token]\n",
        "            input_tensor = torch.tensor([index], device=device)\n",
        "            output, state, attention_weight = decoder(input_tensor, hs, state)\n",
        "            prob = F.softmax(torch.squeeze(output))\n",
        "            index = torch.argmax(prob.cpu().detach()).item()\n",
        "            token = id2word[index]\n",
        "            if token == \"<eos>\":\n",
        "                break\n",
        "            right.append(token)\n",
        "            Atten.append(attention_weight.cpu().detach().numpy())\n",
        "        str_right = right\n",
        "        right = \"\".join(right)\n",
        "\n",
        "        if \"+\" in right or \"<pad>\" in right:\n",
        "          accuracy += 0\n",
        "          continue\n",
        "        \n",
        "        x = list(data[0].to('cpu').detach().numpy() )\n",
        "        try:\n",
        "            padded_idx_x = x.index(word2id[\"<pad>\"])\n",
        "        except ValueError:\n",
        "            padded_idx_x = len(x)\n",
        "        left = \"\".join(map(lambda c: str(id2word[c]), x[:padded_idx_x]))\n",
        "        str_left = []\n",
        "        for s in range(len(x)):\n",
        "          if str(x[s]) == '11':\n",
        "            str_left.append('+')\n",
        "          elif str(x[s]) == '10':\n",
        "            str_left.append('=')\n",
        "          else:\n",
        "            str_left.append(str(x[s]))\n",
        "\n",
        "        flag = [\"F\", \"T\"][eval(left) == int(right)]\n",
        "        print(\"{:>7s} = {:>4s} :{}\".format(left, right, flag))\n",
        "        Atten = np.concatenate(Atten, axis=0)\n",
        "        Atten = Atten[:, :, 0].transpose(1, 0)\n",
        "        df = pd.DataFrame(Atten, index=str_left, columns=str_right)\n",
        "        plt.figure(figsize=[12, 8])\n",
        "        sns.heatmap(df)\n",
        "        if ind == 4:\n",
        "          break\n"
      ],
      "execution_count": null,
      "outputs": []
    },
    {
      "cell_type": "markdown",
      "metadata": {
        "id": "OJeoXisaCnok"
      },
      "source": [
        "# 課題\n",
        "* 四則演算を変えてみよう"
      ]
    },
    {
      "cell_type": "code",
      "metadata": {
        "id": "uxtXQWzDCuSf"
      },
      "source": [
        ""
      ],
      "execution_count": null,
      "outputs": []
    }
  ]
}